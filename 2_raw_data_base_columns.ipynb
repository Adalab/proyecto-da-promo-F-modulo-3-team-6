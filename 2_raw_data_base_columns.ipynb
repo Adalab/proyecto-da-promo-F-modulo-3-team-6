{
 "cells": [
  {
   "cell_type": "markdown",
   "metadata": {},
   "source": [
    "# SESION 4 DICIEMBRE"
   ]
  },
  {
   "cell_type": "markdown",
   "metadata": {},
   "source": [
    "# Modificamos columnas que eran object a float "
   ]
  },
  {
   "cell_type": "code",
   "execution_count": 1,
   "metadata": {},
   "outputs": [],
   "source": [
    "import pandas as pd\n",
    "import numpy as np"
   ]
  },
  {
   "cell_type": "code",
   "execution_count": 2,
   "metadata": {},
   "outputs": [],
   "source": [
    "pd.set_option('display.max_columns', None)\n",
    "pd.set_option('display.max_rows', None)"
   ]
  },
  {
   "cell_type": "code",
   "execution_count": 3,
   "metadata": {},
   "outputs": [],
   "source": [
    "df_rawdata = pd.read_csv(\"raw_data_20231201.csv\", index_col=0)"
   ]
  },
  {
   "cell_type": "code",
   "execution_count": 4,
   "metadata": {},
   "outputs": [],
   "source": [
    "def cambiar_comas(cadena):\n",
    "    try:\n",
    "        return float(cadena.replace(\",\", \".\"))\n",
    "    except:\n",
    "        return np.nan\n",
    "    \n",
    "df_rawdata[\"Worklifebalance\"] = df_rawdata[\"Worklifebalance\"].apply(cambiar_comas)\n",
    "df_rawdata[\"Monthlyincome\"] = df_rawdata[\"Monthlyincome\"].apply(cambiar_comas)\n",
    "df_rawdata[\"Performancerating\"] = df_rawdata[\"Performancerating\"].apply(cambiar_comas)\n",
    "df_rawdata[\"Totalworkingyears\"] = df_rawdata[\"Totalworkingyears\"].apply(cambiar_comas)"
   ]
  },
  {
   "cell_type": "code",
   "execution_count": 5,
   "metadata": {},
   "outputs": [],
   "source": [
    "df_rawdata[\"Employeenumber\"]= df_rawdata[\"Employeenumber\"].apply(cambiar_comas)"
   ]
  },
  {
   "cell_type": "code",
   "execution_count": 6,
   "metadata": {},
   "outputs": [
    {
     "data": {
      "text/plain": [
       "431"
      ]
     },
     "execution_count": 6,
     "metadata": {},
     "output_type": "execute_result"
    }
   ],
   "source": [
    "df_rawdata[\"Employeenumber\"].isnull().sum()"
   ]
  },
  {
   "cell_type": "markdown",
   "metadata": {},
   "source": [
    "# Gestión de nulos"
   ]
  },
  {
   "cell_type": "markdown",
   "metadata": {},
   "source": [
    "Cambiamos los nulos de Employeenumber con un \"auto-incremental\""
   ]
  },
  {
   "cell_type": "code",
   "execution_count": 7,
   "metadata": {},
   "outputs": [
    {
     "name": "stdout",
     "output_type": "stream",
     "text": [
      "1604     927\n",
      "1605     941\n",
      "1606     956\n",
      "1607    2497\n",
      "1608     966\n",
      "1609     967\n",
      "1610     972\n",
      "1611    2498\n",
      "1612     990\n",
      "1613    2499\n",
      "Name: Employeenumber, dtype: int32\n"
     ]
    }
   ],
   "source": [
    "# Encuentra el último ID existente\n",
    "ultimo_id = df_rawdata['Employeenumber'].max()\n",
    "# Define una variable para el siguiente ID después del último\n",
    "siguiente_id = ultimo_id + 1\n",
    "# Itera sobre los índices del DataFrame\n",
    "for indice in df_rawdata.index:\n",
    "    if pd.isnull(df_rawdata.at[indice, 'Employeenumber']):  # Verifica si el valor es nulo\n",
    "        df_rawdata.at[indice, 'Employeenumber'] = siguiente_id  # Asigna el siguiente ID\n",
    "        siguiente_id += 1  # Incrementa el siguiente ID\n",
    "df_rawdata[\"Employeenumber\"] = df_rawdata[\"Employeenumber\"].astype(int)\n",
    "# Muestra el DataFrame actualizado\n",
    "print(df_rawdata[\"Employeenumber\"].tail(10))"
   ]
  },
  {
   "cell_type": "code",
   "execution_count": 8,
   "metadata": {},
   "outputs": [
    {
     "data": {
      "text/plain": [
       "dtype('int32')"
      ]
     },
     "execution_count": 8,
     "metadata": {},
     "output_type": "execute_result"
    }
   ],
   "source": [
    "# Muestra el DataFrame actualizado\n",
    "df_rawdata[\"Employeenumber\"].dtype"
   ]
  },
  {
   "cell_type": "code",
   "execution_count": 9,
   "metadata": {},
   "outputs": [
    {
     "data": {
      "text/plain": [
       "Index(['Businesstravel', 'Department', 'Educationfield', 'Maritalstatus',\n",
       "       'Overtime'],\n",
       "      dtype='object')"
      ]
     },
     "execution_count": 9,
     "metadata": {},
     "output_type": "execute_result"
    }
   ],
   "source": [
    "nulls_cat = df_rawdata[df_rawdata.columns[df_rawdata.isnull().any()]].select_dtypes(include = \"O\").columns\n",
    "nulls_cat"
   ]
  },
  {
   "cell_type": "code",
   "execution_count": 10,
   "metadata": {},
   "outputs": [
    {
     "data": {
      "text/plain": [
       "Businesstravel    47.880795\n",
       "Department        81.258278\n",
       "Educationfield    46.490066\n",
       "Maritalstatus     40.264901\n",
       "Overtime          41.721854\n",
       "dtype: float64"
      ]
     },
     "execution_count": 10,
     "metadata": {},
     "output_type": "execute_result"
    }
   ],
   "source": [
    "(df_rawdata[['Businesstravel', 'Department', 'Educationfield', 'Maritalstatus','Overtime']].isnull().sum() / df_rawdata.shape[0]) * 100"
   ]
  },
  {
   "cell_type": "code",
   "execution_count": 11,
   "metadata": {},
   "outputs": [
    {
     "name": "stdout",
     "output_type": "stream",
     "text": [
      "La distribución de las categorías para la columna BUSINESSTRAVEL\n"
     ]
    },
    {
     "data": {
      "text/plain": [
       "Businesstravel\n",
       "travel_rarely        0.364901\n",
       "travel_frequently    0.101325\n",
       "non-travel           0.054967\n",
       "Name: count, dtype: float64"
      ]
     },
     "metadata": {},
     "output_type": "display_data"
    },
    {
     "name": "stdout",
     "output_type": "stream",
     "text": [
      "........................\n",
      "La distribución de las categorías para la columna DEPARTMENT\n"
     ]
    },
    {
     "data": {
      "text/plain": [
       "Department\n",
       " Research & Development     0.122517\n",
       " Sales                      0.055629\n",
       " Human Resources            0.009272\n",
       "Name: count, dtype: float64"
      ]
     },
     "metadata": {},
     "output_type": "display_data"
    },
    {
     "name": "stdout",
     "output_type": "stream",
     "text": [
      "........................\n",
      "La distribución de las categorías para la columna EDUCATIONFIELD\n"
     ]
    },
    {
     "data": {
      "text/plain": [
       "Educationfield\n",
       "Life Sciences       0.215894\n",
       "Medical             0.169536\n",
       "Marketing           0.064238\n",
       "Technical Degree    0.042384\n",
       "Other               0.035762\n",
       "Human Resources     0.007285\n",
       "Name: count, dtype: float64"
      ]
     },
     "metadata": {},
     "output_type": "display_data"
    },
    {
     "name": "stdout",
     "output_type": "stream",
     "text": [
      "........................\n",
      "La distribución de las categorías para la columna MARITALSTATUS\n"
     ]
    },
    {
     "data": {
      "text/plain": [
       "Maritalstatus\n",
       "Married     0.270861\n",
       "Single      0.202649\n",
       "Divorced    0.123841\n",
       "Name: count, dtype: float64"
      ]
     },
     "metadata": {},
     "output_type": "display_data"
    },
    {
     "name": "stdout",
     "output_type": "stream",
     "text": [
      "........................\n",
      "La distribución de las categorías para la columna OVERTIME\n"
     ]
    },
    {
     "data": {
      "text/plain": [
       "Overtime\n",
       "No     0.422517\n",
       "Yes    0.160265\n",
       "Name: count, dtype: float64"
      ]
     },
     "metadata": {},
     "output_type": "display_data"
    },
    {
     "name": "stdout",
     "output_type": "stream",
     "text": [
      "........................\n"
     ]
    }
   ],
   "source": [
    "# sacamos el 'value_counts()' de cada una de las columnas categóricas que tienen nulos para saber como es la distribución de sus categorías\n",
    "for col in nulls_cat:\n",
    "    print(f\"La distribución de las categorías para la columna {col.upper()}\")\n",
    "    display(df_rawdata[col].value_counts() / df_rawdata.shape[0])\n",
    "    print(\"........................\")"
   ]
  },
  {
   "cell_type": "code",
   "execution_count": 12,
   "metadata": {},
   "outputs": [],
   "source": [
    "nulls_cat = ['Businesstravel', 'Educationfield', 'Maritalstatus', 'Overtime']"
   ]
  },
  {
   "cell_type": "markdown",
   "metadata": {},
   "source": [
    "Todos desconocidos!"
   ]
  },
  {
   "cell_type": "code",
   "execution_count": 13,
   "metadata": {},
   "outputs": [],
   "source": [
    "for columna in nulls_cat:\n",
    "    # reemplazamos los nulos por el valor Unknown para cada una de las columnas de la lista\n",
    "    df_rawdata[columna] = df_rawdata[columna].fillna(\"Unknown\")"
   ]
  },
  {
   "cell_type": "code",
   "execution_count": 14,
   "metadata": {},
   "outputs": [
    {
     "data": {
      "text/plain": [
       "array(['No', 'Unknown', 'Yes'], dtype=object)"
      ]
     },
     "execution_count": 14,
     "metadata": {},
     "output_type": "execute_result"
    }
   ],
   "source": [
    "df_rawdata[\"Overtime\"].unique()"
   ]
  },
  {
   "cell_type": "markdown",
   "metadata": {},
   "source": [
    "# Columna Department: vinculada con Jobrole"
   ]
  },
  {
   "cell_type": "code",
   "execution_count": 15,
   "metadata": {},
   "outputs": [
    {
     "data": {
      "text/plain": [
       "0     resEArch DIREcToR \n",
       "1               ManAGeR \n",
       "2               ManaGER \n",
       "3     ReseArCH DIrECtOr \n",
       "4       sAleS EXECUtIve \n",
       "Name: Jobrole, dtype: object"
      ]
     },
     "execution_count": 15,
     "metadata": {},
     "output_type": "execute_result"
    }
   ],
   "source": [
    "# primero vemos cómo está la columna Jobrole\n",
    "df_rawdata[\"Jobrole\"].head()"
   ]
  },
  {
   "cell_type": "code",
   "execution_count": 16,
   "metadata": {},
   "outputs": [
    {
     "data": {
      "text/plain": [
       "0    Research Director\n",
       "1              Manager\n",
       "2              Manager\n",
       "3    Research Director\n",
       "4      Sales Executive\n",
       "Name: Jobrole, dtype: object"
      ]
     },
     "execution_count": 16,
     "metadata": {},
     "output_type": "execute_result"
    }
   ],
   "source": [
    "# capitalize valores de Jobrole (primera letra de cada palabra)\n",
    "df_rawdata['Jobrole'] = df_rawdata['Jobrole'].apply(lambda x: ' '.join(word.capitalize() for word in x.lower().split()))\n",
    "df_rawdata[\"Jobrole\"].head()"
   ]
  },
  {
   "cell_type": "code",
   "execution_count": null,
   "metadata": {},
   "outputs": [],
   "source": [
    "# hacemos función para asignar los valores nulos en Department según la columna Jobrole\n",
    "def fill_department(df, jobrole, department):\n",
    "    df.loc[df['Jobrole'] == jobrole, 'Department'] = df.loc[df['Jobrole'] == jobrole, 'Department'].fillna(department)\n",
    "\n",
    "# Uso de la función fill_department para reemplazar los valores faltantes en 'Department'\n",
    "fill_department(df_rawdata, 'Research Director', 'Research & Development')\n",
    "fill_department(df_rawdata, 'Healthcare Representative', 'Research & Development')\n",
    "fill_department(df_rawdata, 'Laboratory Technician', 'Research & Development')\n",
    "fill_department(df_rawdata, 'Manufacturing Director', 'Research & Development')\n",
    "fill_department(df_rawdata, 'Research Scientist', 'Research & Development')\n",
    "fill_department(df_rawdata, 'Sales Executive', 'Sales')\n",
    "fill_department(df_rawdata, 'Sales Representative', 'Sales')\n",
    "fill_department(df_rawdata, 'Human Resources', 'Human Resources')\n",
    "fill_department(df_rawdata, 'Manager', 'Unknown')\n",
    "\n",
    "# Mostrar el DataFrame actualizado\n",
    "df_rawdata[[\"Jobrole\", \"Department\"]]"
   ]
  },
  {
   "cell_type": "code",
   "execution_count": 18,
   "metadata": {},
   "outputs": [
    {
     "name": "stdout",
     "output_type": "stream",
     "text": [
      "Estadísticas descriptivas para 'Jobrole':\n",
      " count                1510\n",
      "unique                  9\n",
      "top       Sales Executive\n",
      "freq                  336\n",
      "Name: Jobrole, dtype: object\n",
      "\n",
      "Estadísticas descriptivas para 'Department':\n",
      " count                       1510\n",
      "unique                         7\n",
      "top       Research & Development\n",
      "freq                         760\n",
      "Name: Department, dtype: object\n",
      "\n",
      "Conteo de valores únicos para 'Jobrole':\n",
      " Jobrole\n",
      "Sales Executive              336\n",
      "Research Scientist           300\n",
      "Laboratory Technician        264\n",
      "Manufacturing Director       148\n",
      "Healthcare Representative    137\n",
      "Manager                      105\n",
      "Sales Representative          84\n",
      "Research Director             83\n",
      "Human Resources               53\n",
      "Name: count, dtype: int64\n",
      "\n",
      "Conteo de valores únicos para 'Department':\n",
      " Department\n",
      "Research & Development      760\n",
      "Sales                       341\n",
      " Research & Development     185\n",
      "Unknown                      86\n",
      " Sales                       84\n",
      "Human Resources              40\n",
      " Human Resources             14\n",
      "Name: count, dtype: int64\n"
     ]
    }
   ],
   "source": [
    "# Mostrar estadísticas descriptivas y conteo de valores únicos\n",
    "print(\"Estadísticas descriptivas para 'Jobrole':\\n\", df_rawdata['Jobrole'].describe())\n",
    "print(\"\\nEstadísticas descriptivas para 'Department':\\n\", df_rawdata['Department'].describe())\n",
    "\n",
    "print(\"\\nConteo de valores únicos para 'Jobrole':\\n\", df_rawdata['Jobrole'].value_counts())\n",
    "print(\"\\nConteo de valores únicos para 'Department':\\n\", df_rawdata['Department'].value_counts())"
   ]
  },
  {
   "cell_type": "markdown",
   "metadata": {},
   "source": [
    "# Todas las columnas categóricas listas "
   ]
  }
 ],
 "metadata": {
  "kernelspec": {
   "display_name": "pruebalberto",
   "language": "python",
   "name": "python3"
  },
  "language_info": {
   "codemirror_mode": {
    "name": "ipython",
    "version": 3
   },
   "file_extension": ".py",
   "mimetype": "text/x-python",
   "name": "python",
   "nbconvert_exporter": "python",
   "pygments_lexer": "ipython3",
   "version": "3.12.0"
  }
 },
 "nbformat": 4,
 "nbformat_minor": 2
}
