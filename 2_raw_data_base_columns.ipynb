{
 "cells": [
  {
   "cell_type": "markdown",
   "metadata": {},
   "source": [
    "# SESION 4 DICIEMBRE"
   ]
  },
  {
   "cell_type": "markdown",
   "metadata": {},
   "source": [
    "# Modificamos columnas que eran object a float "
   ]
  },
  {
   "cell_type": "code",
   "execution_count": 3,
   "metadata": {},
   "outputs": [],
   "source": [
    "import pandas as pd\n",
    "import numpy as np\n",
    "# -----------------------------------------------------------------------\n",
    "from sklearn.impute import SimpleImputer\n",
    "from sklearn.experimental import enable_iterative_imputer\n",
    "from sklearn.impute import IterativeImputer\n",
    "from sklearn.impute import KNNImputer\n",
    "\n",
    "# Librerías de visualización\n",
    "# -----------------------------------------------------------------------\n",
    "import seaborn as sns\n",
    "import matplotlib.pyplot as plt"
   ]
  },
  {
   "cell_type": "code",
   "execution_count": 4,
   "metadata": {},
   "outputs": [],
   "source": [
    "pd.set_option('display.max_columns', None)\n",
    "pd.set_option('display.max_rows', None)"
   ]
  },
  {
   "cell_type": "code",
   "execution_count": 5,
   "metadata": {},
   "outputs": [],
   "source": [
    "df_rawdata = pd.read_csv(\"raw_data_20231201.csv\", index_col=0)"
   ]
  },
  {
   "cell_type": "code",
   "execution_count": 6,
   "metadata": {},
   "outputs": [],
   "source": [
    "def cambiar_comas(cadena):\n",
    "    try:\n",
    "        return float(cadena.replace(\",\", \".\"))\n",
    "    except:\n",
    "        return np.nan\n",
    "    \n",
    "df_rawdata[\"Monthlyincome\"] = df_rawdata[\"Monthlyincome\"].apply(cambiar_comas)\n",
    "df_rawdata[\"Performancerating\"] = df_rawdata[\"Performancerating\"].apply(cambiar_comas)\n",
    "df_rawdata[\"Totalworkingyears\"] = df_rawdata[\"Totalworkingyears\"].apply(cambiar_comas)"
   ]
  },
  {
   "cell_type": "code",
   "execution_count": 7,
   "metadata": {},
   "outputs": [],
   "source": [
    "df_rawdata[\"Employeenumber\"]= df_rawdata[\"Employeenumber\"].apply(cambiar_comas)"
   ]
  },
  {
   "cell_type": "code",
   "execution_count": 8,
   "metadata": {},
   "outputs": [
    {
     "data": {
      "text/plain": [
       "431"
      ]
     },
     "execution_count": 8,
     "metadata": {},
     "output_type": "execute_result"
    }
   ],
   "source": [
    "df_rawdata[\"Employeenumber\"].isnull().sum()"
   ]
  },
  {
   "cell_type": "markdown",
   "metadata": {},
   "source": [
    "# Gestión de nulos"
   ]
  },
  {
   "cell_type": "markdown",
   "metadata": {},
   "source": [
    "Cambiamos los nulos de Employeenumber con un \"auto-incremental\""
   ]
  },
  {
   "cell_type": "code",
   "execution_count": null,
   "metadata": {},
   "outputs": [],
   "source": [
    "# Encuentra el último ID existente\n",
    "ultimo_id = df_rawdata['Employeenumber'].max()\n",
    "# Define una variable para el siguiente ID después del último\n",
    "siguiente_id = ultimo_id + 1\n",
    "# Itera sobre los índices del DataFrame\n",
    "for indice in df_rawdata.index:\n",
    "    if pd.isnull(df_rawdata.at[indice, 'Employeenumber']):  # Verifica si el valor es nulo\n",
    "        df_rawdata.at[indice, 'Employeenumber'] = siguiente_id  # Asigna el siguiente ID\n",
    "        siguiente_id += 1  # Incrementa el siguiente ID\n",
    "df_rawdata[\"Employeenumber\"] = df_rawdata[\"Employeenumber\"].astype(int)\n",
    "# Muestra el DataFrame actualizado\n",
    "print(df_rawdata[\"Employeenumber\"].tail(10))"
   ]
  },
  {
   "cell_type": "code",
   "execution_count": null,
   "metadata": {},
   "outputs": [],
   "source": [
    "# Muestra el DataFrame actualizado\n",
    "df_rawdata[\"Employeenumber\"].dtype"
   ]
  },
  {
   "cell_type": "code",
   "execution_count": null,
   "metadata": {},
   "outputs": [],
   "source": [
    "nulls_cat = df_rawdata[df_rawdata.columns[df_rawdata.isnull().any()]].select_dtypes(include = \"O\").columns\n",
    "nulls_cat"
   ]
  },
  {
   "cell_type": "code",
   "execution_count": null,
   "metadata": {},
   "outputs": [],
   "source": [
    "(df_rawdata[['Businesstravel', 'Department', 'Educationfield', 'Maritalstatus','Overtime']].isnull().sum() / df_rawdata.shape[0]) * 100"
   ]
  },
  {
   "cell_type": "code",
   "execution_count": null,
   "metadata": {},
   "outputs": [],
   "source": [
    "# sacamos el 'value_counts()' de cada una de las columnas categóricas que tienen nulos para saber como es la distribución de sus categorías\n",
    "for col in nulls_cat:\n",
    "    print(f\"La distribución de las categorías para la columna {col.upper()}\")\n",
    "    display(df_rawdata[col].value_counts() / df_rawdata.shape[0])\n",
    "    print(\"........................\")"
   ]
  },
  {
   "cell_type": "code",
   "execution_count": null,
   "metadata": {},
   "outputs": [],
   "source": [
    "nulls_cat = ['Businesstravel', 'Educationfield', 'Maritalstatus', 'Overtime']"
   ]
  },
  {
   "cell_type": "markdown",
   "metadata": {},
   "source": [
    "Todos desconocidos!"
   ]
  },
  {
   "cell_type": "code",
   "execution_count": null,
   "metadata": {},
   "outputs": [],
   "source": [
    "for columna in nulls_cat:\n",
    "    # reemplazamos los nulos por el valor Unknown para cada una de las columnas de la lista\n",
    "    df_rawdata[columna] = df_rawdata[columna].fillna(\"Unknown\")"
   ]
  },
  {
   "cell_type": "code",
   "execution_count": null,
   "metadata": {},
   "outputs": [],
   "source": [
    "df_rawdata[\"Overtime\"].unique()"
   ]
  },
  {
   "cell_type": "markdown",
   "metadata": {},
   "source": [
    "# Columna Department: vinculada con Jobrole"
   ]
  },
  {
   "cell_type": "code",
   "execution_count": null,
   "metadata": {},
   "outputs": [],
   "source": [
    "# primero vemos cómo está la columna Jobrole\n",
    "#df_rawdata[\"Jobrole\"].head()"
   ]
  },
  {
   "cell_type": "code",
   "execution_count": null,
   "metadata": {},
   "outputs": [],
   "source": [
    "# # capitalize valores de Jobrole (primera letra de cada palabra)\n",
    "# df_rawdata['Jobrole'] = df_rawdata['Jobrole'].apply(lambda x: ' '.join(word.capitalize() for word in x.lower().split()))\n",
    "# df_rawdata[\"Jobrole\"].head()"
   ]
  },
  {
   "cell_type": "code",
   "execution_count": 9,
   "metadata": {},
   "outputs": [
    {
     "data": {
      "text/html": [
       "<div>\n",
       "<style scoped>\n",
       "    .dataframe tbody tr th:only-of-type {\n",
       "        vertical-align: middle;\n",
       "    }\n",
       "\n",
       "    .dataframe tbody tr th {\n",
       "        vertical-align: top;\n",
       "    }\n",
       "\n",
       "    .dataframe thead th {\n",
       "        text-align: right;\n",
       "    }\n",
       "</style>\n",
       "<table border=\"1\" class=\"dataframe\">\n",
       "  <thead>\n",
       "    <tr style=\"text-align: right;\">\n",
       "      <th></th>\n",
       "      <th>Jobrole</th>\n",
       "      <th>Department</th>\n",
       "    </tr>\n",
       "  </thead>\n",
       "  <tbody>\n",
       "    <tr>\n",
       "      <th>0</th>\n",
       "      <td>Research Director</td>\n",
       "      <td>NaN</td>\n",
       "    </tr>\n",
       "    <tr>\n",
       "      <th>1</th>\n",
       "      <td>Manager</td>\n",
       "      <td>NaN</td>\n",
       "    </tr>\n",
       "    <tr>\n",
       "      <th>2</th>\n",
       "      <td>Manager</td>\n",
       "      <td>Research &amp; Development</td>\n",
       "    </tr>\n",
       "    <tr>\n",
       "      <th>3</th>\n",
       "      <td>Research Director</td>\n",
       "      <td>NaN</td>\n",
       "    </tr>\n",
       "    <tr>\n",
       "      <th>4</th>\n",
       "      <td>Sales Executive</td>\n",
       "      <td>NaN</td>\n",
       "    </tr>\n",
       "    <tr>\n",
       "      <th>5</th>\n",
       "      <td>Manager</td>\n",
       "      <td>Research &amp; Development</td>\n",
       "    </tr>\n",
       "    <tr>\n",
       "      <th>6</th>\n",
       "      <td>Sales Executive</td>\n",
       "      <td>NaN</td>\n",
       "    </tr>\n",
       "    <tr>\n",
       "      <th>7</th>\n",
       "      <td>Sales Executive</td>\n",
       "      <td>NaN</td>\n",
       "    </tr>\n",
       "    <tr>\n",
       "      <th>8</th>\n",
       "      <td>Manager</td>\n",
       "      <td>NaN</td>\n",
       "    </tr>\n",
       "    <tr>\n",
       "      <th>9</th>\n",
       "      <td>Research Director</td>\n",
       "      <td>NaN</td>\n",
       "    </tr>\n",
       "    <tr>\n",
       "      <th>10</th>\n",
       "      <td>Research Director</td>\n",
       "      <td>NaN</td>\n",
       "    </tr>\n",
       "    <tr>\n",
       "      <th>11</th>\n",
       "      <td>Manufacturing Director</td>\n",
       "      <td>NaN</td>\n",
       "    </tr>\n",
       "    <tr>\n",
       "      <th>12</th>\n",
       "      <td>Research Director</td>\n",
       "      <td>NaN</td>\n",
       "    </tr>\n",
       "    <tr>\n",
       "      <th>13</th>\n",
       "      <td>Research Director</td>\n",
       "      <td>NaN</td>\n",
       "    </tr>\n",
       "    <tr>\n",
       "      <th>14</th>\n",
       "      <td>Research Director</td>\n",
       "      <td>NaN</td>\n",
       "    </tr>\n",
       "    <tr>\n",
       "      <th>15</th>\n",
       "      <td>Manager</td>\n",
       "      <td>NaN</td>\n",
       "    </tr>\n",
       "    <tr>\n",
       "      <th>16</th>\n",
       "      <td>Research Director</td>\n",
       "      <td>NaN</td>\n",
       "    </tr>\n",
       "    <tr>\n",
       "      <th>17</th>\n",
       "      <td>Manager</td>\n",
       "      <td>NaN</td>\n",
       "    </tr>\n",
       "    <tr>\n",
       "      <th>18</th>\n",
       "      <td>Research Scientist</td>\n",
       "      <td>NaN</td>\n",
       "    </tr>\n",
       "    <tr>\n",
       "      <th>19</th>\n",
       "      <td>Manufacturing Director</td>\n",
       "      <td>NaN</td>\n",
       "    </tr>\n",
       "    <tr>\n",
       "      <th>20</th>\n",
       "      <td>Healthcare Representative</td>\n",
       "      <td>Research &amp; Development</td>\n",
       "    </tr>\n",
       "    <tr>\n",
       "      <th>21</th>\n",
       "      <td>Research Director</td>\n",
       "      <td>NaN</td>\n",
       "    </tr>\n",
       "    <tr>\n",
       "      <th>22</th>\n",
       "      <td>Healthcare Representative</td>\n",
       "      <td>NaN</td>\n",
       "    </tr>\n",
       "    <tr>\n",
       "      <th>23</th>\n",
       "      <td>Manager</td>\n",
       "      <td>NaN</td>\n",
       "    </tr>\n",
       "    <tr>\n",
       "      <th>24</th>\n",
       "      <td>Sales Executive</td>\n",
       "      <td>NaN</td>\n",
       "    </tr>\n",
       "    <tr>\n",
       "      <th>25</th>\n",
       "      <td>Manufacturing Director</td>\n",
       "      <td>NaN</td>\n",
       "    </tr>\n",
       "    <tr>\n",
       "      <th>26</th>\n",
       "      <td>Manager</td>\n",
       "      <td>NaN</td>\n",
       "    </tr>\n",
       "    <tr>\n",
       "      <th>27</th>\n",
       "      <td>Manufacturing Director</td>\n",
       "      <td>NaN</td>\n",
       "    </tr>\n",
       "    <tr>\n",
       "      <th>28</th>\n",
       "      <td>Laboratory Technician</td>\n",
       "      <td>NaN</td>\n",
       "    </tr>\n",
       "    <tr>\n",
       "      <th>29</th>\n",
       "      <td>Sales Executive</td>\n",
       "      <td>Sales</td>\n",
       "    </tr>\n",
       "    <tr>\n",
       "      <th>30</th>\n",
       "      <td>Sales Executive</td>\n",
       "      <td>Sales</td>\n",
       "    </tr>\n",
       "    <tr>\n",
       "      <th>31</th>\n",
       "      <td>Healthcare Representative</td>\n",
       "      <td>Research &amp; Development</td>\n",
       "    </tr>\n",
       "    <tr>\n",
       "      <th>32</th>\n",
       "      <td>Manager</td>\n",
       "      <td>NaN</td>\n",
       "    </tr>\n",
       "    <tr>\n",
       "      <th>33</th>\n",
       "      <td>Sales Executive</td>\n",
       "      <td>NaN</td>\n",
       "    </tr>\n",
       "    <tr>\n",
       "      <th>34</th>\n",
       "      <td>Research Scientist</td>\n",
       "      <td>NaN</td>\n",
       "    </tr>\n",
       "    <tr>\n",
       "      <th>35</th>\n",
       "      <td>Sales Executive</td>\n",
       "      <td>NaN</td>\n",
       "    </tr>\n",
       "    <tr>\n",
       "      <th>36</th>\n",
       "      <td>Manager</td>\n",
       "      <td>NaN</td>\n",
       "    </tr>\n",
       "  </tbody>\n",
       "</table>\n",
       "</div>"
      ],
      "text/plain": [
       "                        Jobrole                Department\n",
       "0            Research Director                        NaN\n",
       "1                      Manager                        NaN\n",
       "2                      Manager    Research & Development \n",
       "3            Research Director                        NaN\n",
       "4              Sales Executive                        NaN\n",
       "5                      Manager    Research & Development \n",
       "6              Sales Executive                        NaN\n",
       "7              Sales Executive                        NaN\n",
       "8                      Manager                        NaN\n",
       "9            Research Director                        NaN\n",
       "10           Research Director                        NaN\n",
       "11      Manufacturing Director                        NaN\n",
       "12           Research Director                        NaN\n",
       "13           Research Director                        NaN\n",
       "14           Research Director                        NaN\n",
       "15                     Manager                        NaN\n",
       "16           Research Director                        NaN\n",
       "17                     Manager                        NaN\n",
       "18          Research Scientist                        NaN\n",
       "19      Manufacturing Director                        NaN\n",
       "20   Healthcare Representative    Research & Development \n",
       "21           Research Director                        NaN\n",
       "22   Healthcare Representative                        NaN\n",
       "23                     Manager                        NaN\n",
       "24             Sales Executive                        NaN\n",
       "25      Manufacturing Director                        NaN\n",
       "26                     Manager                        NaN\n",
       "27      Manufacturing Director                        NaN\n",
       "28       Laboratory Technician                        NaN\n",
       "29             Sales Executive                     Sales \n",
       "30             Sales Executive                     Sales \n",
       "31   Healthcare Representative    Research & Development \n",
       "32                     Manager                        NaN\n",
       "33             Sales Executive                        NaN\n",
       "34          Research Scientist                        NaN\n",
       "35             Sales Executive                        NaN\n",
       "36                     Manager                        NaN"
      ]
     },
     "execution_count": 9,
     "metadata": {},
     "output_type": "execute_result"
    }
   ],
   "source": [
    "# hacemos función para asignar los valores nulos en Department según la columna Jobrole\n",
    "def fill_department(df, jobrole, department):\n",
    "    df.loc[df['Jobrole'] == jobrole, 'Department'] = df.loc[df['Jobrole'] == jobrole, 'Department'].fillna(department)\n",
    "    return df \n",
    "\n",
    "# Uso de la función fill_department para reemplazar los valores faltantes en 'Department'\n",
    "df_rawdata = fill_department(df_rawdata, 'Research Director', 'Research & Development')\n",
    "df_rawdata = fill_department(df_rawdata, 'Healthcare Representative', 'Research & Development')\n",
    "df_rawdata = fill_department(df_rawdata, 'Laboratory Technician', 'Research & Development')\n",
    "df_rawdata = fill_department(df_rawdata, 'Manufacturing Director', 'Research & Development')\n",
    "df_rawdata = fill_department(df_rawdata, 'Research Scientist', 'Research & Development')\n",
    "df_rawdata = fill_department(df_rawdata, 'Sales Executive', 'Sales')\n",
    "df_rawdata = fill_department(df_rawdata, 'Sales Representative', 'Sales')\n",
    "df_rawdata = fill_department(df_rawdata, 'Human Resources', 'Human Resources')\n",
    "df_rawdata = fill_department(df_rawdata, 'Manager', 'Unknown')\n",
    "\n",
    "# Mostrar el DataFrame actualizado\n",
    "df_rawdata[[\"Jobrole\", \"Department\"]].head(37)"
   ]
  },
  {
   "cell_type": "code",
   "execution_count": null,
   "metadata": {},
   "outputs": [],
   "source": [
    "# Mostrar estadísticas descriptivas y conteo de valores únicos\n",
    "print(\"Estadísticas descriptivas para 'Jobrole':\\n\", df_rawdata['Jobrole'].describe())\n",
    "print(\"\\nEstadísticas descriptivas para 'Department':\\n\", df_rawdata['Department'].describe())\n",
    "\n",
    "print(\"\\nConteo de valores únicos para 'Jobrole':\\n\", df_rawdata['Jobrole'].value_counts())\n",
    "print(\"\\nConteo de valores únicos para 'Department':\\n\", df_rawdata['Department'].value_counts())"
   ]
  },
  {
   "cell_type": "markdown",
   "metadata": {},
   "source": [
    "# Todas las columnas categóricas listas "
   ]
  },
  {
   "cell_type": "code",
   "execution_count": null,
   "metadata": {},
   "outputs": [],
   "source": [
    "# Como hay valores negativos en la columna Distancefromhome los cambiamos a nulos.\n",
    "def negative_to_null(data):\n",
    "    if data < 0:\n",
    "        return np.nan\n",
    "    else:\n",
    "        return data\n",
    "    \n",
    "df_rawdata[\"Distancefromhome\"] = df_rawdata[\"Distancefromhome\"].apply(negative_to_null)"
   ]
  },
  {
   "cell_type": "code",
   "execution_count": null,
   "metadata": {},
   "outputs": [],
   "source": [
    "df_rawdata[\"Distancefromhome\"].tail(5)"
   ]
  },
  {
   "cell_type": "markdown",
   "metadata": {},
   "source": [
    "## Gestión nulos columnas numéricas"
   ]
  },
  {
   "cell_type": "code",
   "execution_count": null,
   "metadata": {},
   "outputs": [],
   "source": [
    "nulls_num = df_rawdata[df_rawdata.columns[df_rawdata.isna().any()]].columns\n",
    "nulls_num"
   ]
  },
  {
   "cell_type": "code",
   "execution_count": null,
   "metadata": {},
   "outputs": [],
   "source": [
    "# Función para quitar \"Not Available\" y poner nulos en su lugar\n",
    "def not_available_to_null(data):\n",
    "    if data == 'Not Available':\n",
    "        return np.nan\n",
    "    else:\n",
    "        return float(data)\n",
    "df_rawdata[\"Hourlyrate\"] = df_rawdata[\"Hourlyrate\"].apply(not_available_to_null)"
   ]
  },
  {
   "cell_type": "code",
   "execution_count": null,
   "metadata": {},
   "outputs": [],
   "source": [
    "df_rawdata_copy = df_rawdata.copy()"
   ]
  },
  {
   "cell_type": "code",
   "execution_count": null,
   "metadata": {},
   "outputs": [],
   "source": [
    "print(f\"Tenemos nulos: \\n{df_rawdata_copy[['Dailyrate', 'Distancefromhome', 'Monthlyincome', 'Performancerating','Totalworkingyears', 'Worklifebalance', 'Hourlyrate']].isnull().sum()} nulos\")\t\t\t"
   ]
  },
  {
   "cell_type": "markdown",
   "metadata": {},
   "source": [
    "# IterativeImputer"
   ]
  },
  {
   "cell_type": "code",
   "execution_count": null,
   "metadata": {},
   "outputs": [],
   "source": [
    "# instanciamos las clases\t\t\t\t\t\t\t\t\t\t\n",
    "imputer_iterative = IterativeImputer(max_iter = 20, random_state = 42)\t\t\t\n",
    "# ajustamos y tranformamos los datos\t\t\t\t\t\t\t\t\t\t\n",
    "imputer_iterative_imputado = imputer_iterative.fit_transform(df_rawdata_copy[['Dailyrate', 'Distancefromhome', 'Monthlyincome', 'Performancerating','Totalworkingyears', 'Worklifebalance', 'Hourlyrate']])\n",
    "# comprobamos que es lo que nos devuelve, que en este caso es un array también\t\t\t\t\t\n",
    "imputer_iterative_imputado\t\t\t\t\t\t\t\t\t\t\t\t\t\t\t\t\t\t\t\t\t\t"
   ]
  },
  {
   "cell_type": "code",
   "execution_count": null,
   "metadata": {},
   "outputs": [],
   "source": [
    "df_rawdata_copy[['Dailyrate_ITE', 'Distancefromhome_ITE', 'Monthlyincome_ITE', 'Performancerating_ITE','Totalworkingyears_ITE', 'Worklifebalance_ITE', 'Hourlyrate_ITE']] = imputer_iterative_imputado\t\t\t\t\t\t\t\t\t\t\n",
    "\t\t\t\t\t\t\t\t\t\t\n",
    "# comprobamos los nulos\t\t\t\t\t\t\t\t\t\t\n",
    "print(f\"Después del 'Iterative' tenemos: \\n{df_rawdata_copy[['Dailyrate_ITE', 'Distancefromhome_ITE', 'Monthlyincome_ITE', 'Performancerating_ITE', 'Totalworkingyears_ITE', 'Worklifebalance_ITE', 'Hourlyrate_ITE']].isnull().sum()} nulos\")\t\t\t\t\t\t\t\t\t\t\n",
    "\t\t\t\t\t\t\t\t\t\t"
   ]
  },
  {
   "cell_type": "markdown",
   "metadata": {},
   "source": [
    "# KNN Imputer"
   ]
  },
  {
   "cell_type": "code",
   "execution_count": null,
   "metadata": {},
   "outputs": [],
   "source": [
    "# instanciamos la clase del KNNImputer\n",
    "imputer_knn = KNNImputer(n_neighbors = 5)\n",
    "# ajustamos y transformamos los datos\n",
    "imputer_knn_imputado = imputer_knn.fit_transform(df_rawdata_copy[['Dailyrate', 'Distancefromhome', 'Monthlyincome', 'Performancerating','Totalworkingyears', 'Worklifebalance', 'Hourlyrate']])\n",
    "# comprobamos que es lo que nos devuelve, que sigue siendo un array\n",
    "imputer_knn_imputado"
   ]
  },
  {
   "cell_type": "code",
   "execution_count": null,
   "metadata": {},
   "outputs": [],
   "source": [
    "# por último nos queda añadir ese array al DataFrame como hemos hecho hasta ahora\n",
    "df_rawdata_copy[['Dailyrate_KNN', 'Distancefromhome_KNN', 'Monthlyincome_KNN', 'Performancerating_KNN','Totalworkingyears_KNN', 'Worklifebalance_KNN', 'Hourlyrate_KNN']] = imputer_knn_imputado\n",
    "\n",
    "# comprobamos los nulos\n",
    "print(f\"Después del 'KNN' tenemos: \\n{df_rawdata_copy[['Dailyrate_KNN', 'Distancefromhome_KNN', 'Monthlyincome_KNN', 'Performancerating_KNN','Totalworkingyears_KNN', 'Worklifebalance_KNN', 'Hourlyrate_KNN']].isnull().sum()} nulos\")\n"
   ]
  },
  {
   "cell_type": "code",
   "execution_count": null,
   "metadata": {},
   "outputs": [],
   "source": [
    "df_rawdata_copy.describe()[['Dailyrate', 'Dailyrate_ITE', 'Dailyrate_KNN']]"
   ]
  },
  {
   "cell_type": "code",
   "execution_count": null,
   "metadata": {},
   "outputs": [],
   "source": [
    "df_rawdata_copy.describe()[[\"Distancefromhome\", \"Distancefromhome_ITE\", \"Distancefromhome_KNN\"]]"
   ]
  },
  {
   "cell_type": "code",
   "execution_count": null,
   "metadata": {},
   "outputs": [],
   "source": [
    "df_rawdata_copy.describe()[[\"Monthlyincome\", \"Monthlyincome_ITE\", \"Monthlyincome_KNN\"]]"
   ]
  },
  {
   "cell_type": "code",
   "execution_count": null,
   "metadata": {},
   "outputs": [],
   "source": [
    "df_rawdata_copy.describe()[[\"Performancerating\", \"Performancerating_ITE\", \"Performancerating_KNN\"]]"
   ]
  },
  {
   "cell_type": "code",
   "execution_count": null,
   "metadata": {},
   "outputs": [],
   "source": [
    "df_rawdata_copy.describe()[[\"Totalworkingyears\",\"Totalworkingyears_ITE\", \"Totalworkingyears_KNN\"]]"
   ]
  },
  {
   "cell_type": "code",
   "execution_count": null,
   "metadata": {},
   "outputs": [],
   "source": [
    "df_rawdata_copy.describe()[[\"Worklifebalance\", \"Worklifebalance_ITE\", \"Worklifebalance_KNN\"]]"
   ]
  },
  {
   "cell_type": "code",
   "execution_count": null,
   "metadata": {},
   "outputs": [],
   "source": [
    "df_rawdata_copy.describe()[[\"Hourlyrate\",\"Hourlyrate_ITE\",\"Hourlyrate_KNN\"]]"
   ]
  },
  {
   "cell_type": "markdown",
   "metadata": {},
   "source": [
    "Dailyrate_KNN, Distancefromhome_KNN, Monthlyincome_KNN, Performancerating_KNN, Totalworkingyears_KNN, Worklifebalance_KNN, Hourlyrate_KNN\n",
    "\n",
    "# Hemos seleccionado el método KNN Imputer ya que los resultados son más precisos.\n"
   ]
  },
  {
   "cell_type": "code",
   "execution_count": null,
   "metadata": {},
   "outputs": [],
   "source": [
    "#al final me quedo con las del método kn por escoger alguna\n",
    "df_rawdata_copy.drop(['Dailyrate', 'Dailyrate_ITE', 'Distancefromhome', 'Distancefromhome_ITE', 'Monthlyincome', 'Monthlyincome_ITE', 'Performancerating', 'Performancerating_ITE', 'Totalworkingyears', 'Totalworkingyears_ITE', 'Worklifebalance', 'Worklifebalance_ITE', 'Hourlyrate', 'Hourlyrate_ITE'], axis = 1, inplace = True)\n",
    "\n",
    "# ahora vamos a cambiar el nombre de las columnas que quedaron para que tengan el mismo nombre de origen\n",
    "nuevo_nombre = {\"Dailyrate_KNN\": \"Dailyrate\",  'Distancefromhome_KNN': \"Distancefromhome\", \"Monthlyincome_KNN\": \"Monthlyincome\", \"Performancerating_KNN\": \"Performancerating\",\"Totalworkingyears_KNN\": \"Totalworkingyears\", \"Worklifebalance_KNN\": \"Worklifebalance\", \"Hourlyrate_KNN\":\"Hourlyrate\"}\n",
    "df_rawdata_copy.rename(columns = nuevo_nombre, inplace = True)\n"
   ]
  },
  {
   "cell_type": "code",
   "execution_count": null,
   "metadata": {},
   "outputs": [],
   "source": [
    "df_rawdata_copy.columns"
   ]
  },
  {
   "cell_type": "code",
   "execution_count": null,
   "metadata": {},
   "outputs": [],
   "source": [
    "df_rawdata_copy.to_csv(\"raw_data_final_20231205.csv\")"
   ]
  }
 ],
 "metadata": {
  "kernelspec": {
   "display_name": "pruebalberto",
   "language": "python",
   "name": "python3"
  },
  "language_info": {
   "codemirror_mode": {
    "name": "ipython",
    "version": 3
   },
   "file_extension": ".py",
   "mimetype": "text/x-python",
   "name": "python",
   "nbconvert_exporter": "python",
   "pygments_lexer": "ipython3",
   "version": "3.11.5"
  }
 },
 "nbformat": 4,
 "nbformat_minor": 2
}
