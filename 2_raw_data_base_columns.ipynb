{
 "cells": [
  {
   "cell_type": "markdown",
   "metadata": {},
   "source": [
    "# SESION 4 DICIEMBRE"
   ]
  },
  {
   "cell_type": "markdown",
   "metadata": {},
   "source": [
    "# Modificamos columnas que eran object a float "
   ]
  },
  {
   "cell_type": "code",
   "execution_count": 20,
   "metadata": {},
   "outputs": [],
   "source": [
    "import pandas as pd\n",
    "import numpy as np\n",
    "# -----------------------------------------------------------------------\n",
    "from sklearn.impute import SimpleImputer\n",
    "from sklearn.experimental import enable_iterative_imputer\n",
    "from sklearn.impute import IterativeImputer\n",
    "from sklearn.impute import KNNImputer\n",
    "\n",
    "# Librerías de visualización\n",
    "# -----------------------------------------------------------------------\n",
    "import seaborn as sns\n",
    "import matplotlib.pyplot as plt"
   ]
  },
  {
   "cell_type": "code",
   "execution_count": 21,
   "metadata": {},
   "outputs": [],
   "source": [
    "pd.set_option('display.max_columns', None)\n",
    "pd.set_option('display.max_rows', None)"
   ]
  },
  {
   "cell_type": "code",
   "execution_count": 22,
   "metadata": {},
   "outputs": [],
   "source": [
    "df_rawdata = pd.read_csv(\"raw_data_20231201.csv\", index_col=0)"
   ]
  },
  {
   "cell_type": "code",
   "execution_count": 23,
   "metadata": {},
   "outputs": [],
   "source": [
    "def cambiar_comas(cadena):\n",
    "    try:\n",
    "        return float(cadena.replace(\",\", \".\"))\n",
    "    except:\n",
    "        return np.nan\n",
    "    \n",
    "df_rawdata[\"Monthlyincome\"] = df_rawdata[\"Monthlyincome\"].apply(cambiar_comas)\n",
    "df_rawdata[\"Performancerating\"] = df_rawdata[\"Performancerating\"].apply(cambiar_comas)\n",
    "df_rawdata[\"Totalworkingyears\"] = df_rawdata[\"Totalworkingyears\"].apply(cambiar_comas)"
   ]
  },
  {
   "cell_type": "code",
   "execution_count": 24,
   "metadata": {},
   "outputs": [],
   "source": [
    "df_rawdata[\"Employeenumber\"]= df_rawdata[\"Employeenumber\"].apply(cambiar_comas)"
   ]
  },
  {
   "cell_type": "code",
   "execution_count": 25,
   "metadata": {},
   "outputs": [
    {
     "data": {
      "text/plain": [
       "431"
      ]
     },
     "execution_count": 25,
     "metadata": {},
     "output_type": "execute_result"
    }
   ],
   "source": [
    "df_rawdata[\"Employeenumber\"].isnull().sum()"
   ]
  },
  {
   "cell_type": "markdown",
   "metadata": {},
   "source": [
    "# Gestión de nulos"
   ]
  },
  {
   "cell_type": "markdown",
   "metadata": {},
   "source": [
    "Cambiamos los nulos de Employeenumber con un \"auto-incremental\""
   ]
  },
  {
   "cell_type": "code",
   "execution_count": 26,
   "metadata": {},
   "outputs": [
    {
     "name": "stdout",
     "output_type": "stream",
     "text": [
      "1604     927\n",
      "1605     941\n",
      "1606     956\n",
      "1607    2497\n",
      "1608     966\n",
      "1609     967\n",
      "1610     972\n",
      "1611    2498\n",
      "1612     990\n",
      "1613    2499\n",
      "Name: Employeenumber, dtype: int64\n"
     ]
    }
   ],
   "source": [
    "# Encuentra el último ID existente\n",
    "ultimo_id = df_rawdata['Employeenumber'].max()\n",
    "# Define una variable para el siguiente ID después del último\n",
    "siguiente_id = ultimo_id + 1\n",
    "# Itera sobre los índices del DataFrame\n",
    "for indice in df_rawdata.index:\n",
    "    if pd.isnull(df_rawdata.at[indice, 'Employeenumber']):  # Verifica si el valor es nulo\n",
    "        df_rawdata.at[indice, 'Employeenumber'] = siguiente_id  # Asigna el siguiente ID\n",
    "        siguiente_id += 1  # Incrementa el siguiente ID\n",
    "df_rawdata[\"Employeenumber\"] = df_rawdata[\"Employeenumber\"].astype(int)\n",
    "# Muestra el DataFrame actualizado\n",
    "print(df_rawdata[\"Employeenumber\"].tail(10))"
   ]
  },
  {
   "cell_type": "code",
   "execution_count": 27,
   "metadata": {},
   "outputs": [
    {
     "data": {
      "text/plain": [
       "dtype('int64')"
      ]
     },
     "execution_count": 27,
     "metadata": {},
     "output_type": "execute_result"
    }
   ],
   "source": [
    "# Muestra el DataFrame actualizado\n",
    "df_rawdata[\"Employeenumber\"].dtype"
   ]
  },
  {
   "cell_type": "code",
   "execution_count": 28,
   "metadata": {},
   "outputs": [
    {
     "data": {
      "text/plain": [
       "Index(['Businesstravel', 'Department', 'Educationfield', 'Maritalstatus',\n",
       "       'Overtime'],\n",
       "      dtype='object')"
      ]
     },
     "execution_count": 28,
     "metadata": {},
     "output_type": "execute_result"
    }
   ],
   "source": [
    "nulls_cat = df_rawdata[df_rawdata.columns[df_rawdata.isnull().any()]].select_dtypes(include = \"O\").columns\n",
    "nulls_cat"
   ]
  },
  {
   "cell_type": "code",
   "execution_count": 29,
   "metadata": {},
   "outputs": [
    {
     "data": {
      "text/plain": [
       "Businesstravel    47.880795\n",
       "Department        81.258278\n",
       "Educationfield    46.490066\n",
       "Maritalstatus     40.264901\n",
       "Overtime          41.721854\n",
       "dtype: float64"
      ]
     },
     "execution_count": 29,
     "metadata": {},
     "output_type": "execute_result"
    }
   ],
   "source": [
    "(df_rawdata[['Businesstravel', 'Department', 'Educationfield', 'Maritalstatus','Overtime']].isnull().sum() / df_rawdata.shape[0]) * 100"
   ]
  },
  {
   "cell_type": "code",
   "execution_count": 30,
   "metadata": {},
   "outputs": [
    {
     "name": "stdout",
     "output_type": "stream",
     "text": [
      "La distribución de las categorías para la columna BUSINESSTRAVEL\n"
     ]
    },
    {
     "data": {
      "text/plain": [
       "travel_rarely        0.364901\n",
       "travel_frequently    0.101325\n",
       "non-travel           0.054967\n",
       "Name: Businesstravel, dtype: float64"
      ]
     },
     "metadata": {},
     "output_type": "display_data"
    },
    {
     "name": "stdout",
     "output_type": "stream",
     "text": [
      "........................\n",
      "La distribución de las categorías para la columna DEPARTMENT\n"
     ]
    },
    {
     "data": {
      "text/plain": [
       " Research & Development     0.122517\n",
       " Sales                      0.055629\n",
       " Human Resources            0.009272\n",
       "Name: Department, dtype: float64"
      ]
     },
     "metadata": {},
     "output_type": "display_data"
    },
    {
     "name": "stdout",
     "output_type": "stream",
     "text": [
      "........................\n",
      "La distribución de las categorías para la columna EDUCATIONFIELD\n"
     ]
    },
    {
     "data": {
      "text/plain": [
       "Life Sciences       0.215894\n",
       "Medical             0.169536\n",
       "Marketing           0.064238\n",
       "Technical Degree    0.042384\n",
       "Other               0.035762\n",
       "Human Resources     0.007285\n",
       "Name: Educationfield, dtype: float64"
      ]
     },
     "metadata": {},
     "output_type": "display_data"
    },
    {
     "name": "stdout",
     "output_type": "stream",
     "text": [
      "........................\n",
      "La distribución de las categorías para la columna MARITALSTATUS\n"
     ]
    },
    {
     "data": {
      "text/plain": [
       "Married     0.270861\n",
       "Single      0.202649\n",
       "Divorced    0.123841\n",
       "Name: Maritalstatus, dtype: float64"
      ]
     },
     "metadata": {},
     "output_type": "display_data"
    },
    {
     "name": "stdout",
     "output_type": "stream",
     "text": [
      "........................\n",
      "La distribución de las categorías para la columna OVERTIME\n"
     ]
    },
    {
     "data": {
      "text/plain": [
       "No     0.422517\n",
       "Yes    0.160265\n",
       "Name: Overtime, dtype: float64"
      ]
     },
     "metadata": {},
     "output_type": "display_data"
    },
    {
     "name": "stdout",
     "output_type": "stream",
     "text": [
      "........................\n"
     ]
    }
   ],
   "source": [
    "# sacamos el 'value_counts()' de cada una de las columnas categóricas que tienen nulos para saber como es la distribución de sus categorías\n",
    "for col in nulls_cat:\n",
    "    print(f\"La distribución de las categorías para la columna {col.upper()}\")\n",
    "    display(df_rawdata[col].value_counts() / df_rawdata.shape[0])\n",
    "    print(\"........................\")"
   ]
  },
  {
   "cell_type": "code",
   "execution_count": 31,
   "metadata": {},
   "outputs": [],
   "source": [
    "nulls_cat = ['Businesstravel', 'Educationfield', 'Maritalstatus', 'Overtime']"
   ]
  },
  {
   "cell_type": "markdown",
   "metadata": {},
   "source": [
    "Todos desconocidos!"
   ]
  },
  {
   "cell_type": "code",
   "execution_count": 32,
   "metadata": {},
   "outputs": [],
   "source": [
    "for columna in nulls_cat:\n",
    "    # reemplazamos los nulos por el valor Unknown para cada una de las columnas de la lista\n",
    "    df_rawdata[columna] = df_rawdata[columna].fillna(\"Unknown\")"
   ]
  },
  {
   "cell_type": "code",
   "execution_count": 33,
   "metadata": {},
   "outputs": [
    {
     "data": {
      "text/plain": [
       "array(['No', 'Unknown', 'Yes'], dtype=object)"
      ]
     },
     "execution_count": 33,
     "metadata": {},
     "output_type": "execute_result"
    }
   ],
   "source": [
    "df_rawdata[\"Overtime\"].unique()"
   ]
  },
  {
   "cell_type": "markdown",
   "metadata": {},
   "source": [
    "# Columna Department: vinculada con Jobrole"
   ]
  },
  {
   "cell_type": "code",
   "execution_count": 34,
   "metadata": {},
   "outputs": [],
   "source": [
    "# primero vemos cómo está la columna Jobrole\n",
    "#df_rawdata[\"Jobrole\"].head()"
   ]
  },
  {
   "cell_type": "code",
   "execution_count": 35,
   "metadata": {},
   "outputs": [],
   "source": [
    "# # capitalize valores de Jobrole (primera letra de cada palabra)\n",
    "# df_rawdata['Jobrole'] = df_rawdata['Jobrole'].apply(lambda x: ' '.join(word.capitalize() for word in x.lower().split()))\n",
    "# df_rawdata[\"Jobrole\"].head()"
   ]
  },
  {
   "cell_type": "code",
   "execution_count": 36,
   "metadata": {},
   "outputs": [
    {
     "data": {
      "text/html": [
       "<div>\n",
       "<style scoped>\n",
       "    .dataframe tbody tr th:only-of-type {\n",
       "        vertical-align: middle;\n",
       "    }\n",
       "\n",
       "    .dataframe tbody tr th {\n",
       "        vertical-align: top;\n",
       "    }\n",
       "\n",
       "    .dataframe thead th {\n",
       "        text-align: right;\n",
       "    }\n",
       "</style>\n",
       "<table border=\"1\" class=\"dataframe\">\n",
       "  <thead>\n",
       "    <tr style=\"text-align: right;\">\n",
       "      <th></th>\n",
       "      <th>Jobrole</th>\n",
       "      <th>Department</th>\n",
       "    </tr>\n",
       "  </thead>\n",
       "  <tbody>\n",
       "    <tr>\n",
       "      <th>0</th>\n",
       "      <td>Research Director</td>\n",
       "      <td>NaN</td>\n",
       "    </tr>\n",
       "    <tr>\n",
       "      <th>1</th>\n",
       "      <td>Manager</td>\n",
       "      <td>NaN</td>\n",
       "    </tr>\n",
       "    <tr>\n",
       "      <th>2</th>\n",
       "      <td>Manager</td>\n",
       "      <td>Research &amp; Development</td>\n",
       "    </tr>\n",
       "    <tr>\n",
       "      <th>3</th>\n",
       "      <td>Research Director</td>\n",
       "      <td>NaN</td>\n",
       "    </tr>\n",
       "    <tr>\n",
       "      <th>4</th>\n",
       "      <td>Sales Executive</td>\n",
       "      <td>NaN</td>\n",
       "    </tr>\n",
       "  </tbody>\n",
       "</table>\n",
       "</div>"
      ],
      "text/plain": [
       "               Jobrole                Department\n",
       "0   Research Director                        NaN\n",
       "1             Manager                        NaN\n",
       "2             Manager    Research & Development \n",
       "3   Research Director                        NaN\n",
       "4     Sales Executive                        NaN"
      ]
     },
     "execution_count": 36,
     "metadata": {},
     "output_type": "execute_result"
    }
   ],
   "source": [
    "# hacemos función para asignar los valores nulos en Department según la columna Jobrole\n",
    "def fill_department(df, jobrole, department):\n",
    "    df.loc[df['Jobrole'] == jobrole, 'Department'] = df.loc[df['Jobrole'] == jobrole, 'Department'].fillna(department)\n",
    "\n",
    "# Uso de la función fill_department para reemplazar los valores faltantes en 'Department'\n",
    "fill_department(df_rawdata, 'Research Director', 'Research & Development')\n",
    "fill_department(df_rawdata, 'Healthcare Representative', 'Research & Development')\n",
    "fill_department(df_rawdata, 'Laboratory Technician', 'Research & Development')\n",
    "fill_department(df_rawdata, 'Manufacturing Director', 'Research & Development')\n",
    "fill_department(df_rawdata, 'Research Scientist', 'Research & Development')\n",
    "fill_department(df_rawdata, 'Sales Executive', 'Sales')\n",
    "fill_department(df_rawdata, 'Sales Representative', 'Sales')\n",
    "fill_department(df_rawdata, 'Human Resources', 'Human Resources')\n",
    "fill_department(df_rawdata, 'Manager', 'Unknown')\n",
    "\n",
    "# Mostrar el DataFrame actualizado\n",
    "df_rawdata[[\"Jobrole\", \"Department\"]].head(5)"
   ]
  },
  {
   "cell_type": "code",
   "execution_count": 37,
   "metadata": {},
   "outputs": [
    {
     "name": "stdout",
     "output_type": "stream",
     "text": [
      "Estadísticas descriptivas para 'Jobrole':\n",
      " count                  1510\n",
      "unique                    9\n",
      "top        Sales Executive \n",
      "freq                    336\n",
      "Name: Jobrole, dtype: object\n",
      "\n",
      "Estadísticas descriptivas para 'Department':\n",
      " count                          283\n",
      "unique                           3\n",
      "top        Research & Development \n",
      "freq                           185\n",
      "Name: Department, dtype: object\n",
      "\n",
      "Conteo de valores únicos para 'Jobrole':\n",
      "  Sales Executive               336\n",
      " Research Scientist            300\n",
      " Laboratory Technician         264\n",
      " Manufacturing Director        148\n",
      " Healthcare Representative     137\n",
      " Manager                       105\n",
      " Sales Representative           84\n",
      " Research Director              83\n",
      " Human Resources                53\n",
      "Name: Jobrole, dtype: int64\n",
      "\n",
      "Conteo de valores únicos para 'Department':\n",
      "  Research & Development     185\n",
      " Sales                       84\n",
      " Human Resources             14\n",
      "Name: Department, dtype: int64\n"
     ]
    }
   ],
   "source": [
    "# Mostrar estadísticas descriptivas y conteo de valores únicos\n",
    "print(\"Estadísticas descriptivas para 'Jobrole':\\n\", df_rawdata['Jobrole'].describe())\n",
    "print(\"\\nEstadísticas descriptivas para 'Department':\\n\", df_rawdata['Department'].describe())\n",
    "\n",
    "print(\"\\nConteo de valores únicos para 'Jobrole':\\n\", df_rawdata['Jobrole'].value_counts())\n",
    "print(\"\\nConteo de valores únicos para 'Department':\\n\", df_rawdata['Department'].value_counts())"
   ]
  },
  {
   "cell_type": "markdown",
   "metadata": {},
   "source": [
    "# Todas las columnas categóricas listas "
   ]
  },
  {
   "cell_type": "code",
   "execution_count": 38,
   "metadata": {},
   "outputs": [],
   "source": [
    "# Como hay valores negativos en la columna Distancefromhome los cambiamos a nulos.\n",
    "def negative_to_null(data):\n",
    "    if data < 0:\n",
    "        return np.nan\n",
    "    else:\n",
    "        return data\n",
    "    \n",
    "df_rawdata[\"Distancefromhome\"] = df_rawdata[\"Distancefromhome\"].apply(negative_to_null)"
   ]
  },
  {
   "cell_type": "code",
   "execution_count": 39,
   "metadata": {},
   "outputs": [
    {
     "data": {
      "text/plain": [
       "1609    3.0\n",
       "1610    4.0\n",
       "1611    NaN\n",
       "1612    8.0\n",
       "1613    7.0\n",
       "Name: Distancefromhome, dtype: float64"
      ]
     },
     "execution_count": 39,
     "metadata": {},
     "output_type": "execute_result"
    }
   ],
   "source": [
    "df_rawdata[\"Distancefromhome\"].tail(5)"
   ]
  },
  {
   "cell_type": "markdown",
   "metadata": {},
   "source": [
    "## Gestión nulos columnas numéricas"
   ]
  },
  {
   "cell_type": "code",
   "execution_count": 40,
   "metadata": {},
   "outputs": [
    {
     "data": {
      "text/plain": [
       "Index(['Dailyrate', 'Department', 'Distancefromhome', 'Monthlyincome',\n",
       "       'Performancerating', 'Totalworkingyears', 'Worklifebalance'],\n",
       "      dtype='object')"
      ]
     },
     "execution_count": 40,
     "metadata": {},
     "output_type": "execute_result"
    }
   ],
   "source": [
    "nulls_num = df_rawdata[df_rawdata.columns[df_rawdata.isna().any()]].columns\n",
    "nulls_num"
   ]
  },
  {
   "cell_type": "code",
   "execution_count": 41,
   "metadata": {},
   "outputs": [],
   "source": [
    "df_rawdata_copy = df_rawdata.copy()"
   ]
  },
  {
   "cell_type": "code",
   "execution_count": 42,
   "metadata": {},
   "outputs": [
    {
     "name": "stdout",
     "output_type": "stream",
     "text": [
      "Tenemos nulos: \n",
      "Dailyrate            116\n",
      "Distancefromhome     178\n",
      "Monthlyincome        799\n",
      "Performancerating    182\n",
      "Totalworkingyears    494\n",
      "Worklifebalance      100\n",
      "dtype: int64 nulos\n"
     ]
    }
   ],
   "source": [
    "print(f\"Tenemos nulos: \\n{df_rawdata_copy[['Dailyrate', 'Distancefromhome', 'Monthlyincome', 'Performancerating','Totalworkingyears', 'Worklifebalance']].isnull().sum()} nulos\")\t\t\t"
   ]
  },
  {
   "cell_type": "code",
   "execution_count": 44,
   "metadata": {},
   "outputs": [
    {
     "data": {
      "text/plain": [
       "array([[6.84000000e+02, 6.00000000e+00, 1.95370000e+04, 3.00000000e+00,\n",
       "        3.26307279e+01, 3.00000000e+00],\n",
       "       [6.99000000e+02, 1.00000000e+00, 1.99990000e+04, 3.00000000e+00,\n",
       "        3.40000000e+01, 3.00000000e+00],\n",
       "       [5.32000000e+02, 4.00000000e+00, 1.92320000e+04, 3.00000000e+00,\n",
       "        2.20000000e+01, 2.91167214e+00],\n",
       "       ...,\n",
       "       [9.03000000e+02, 9.05275661e+00, 5.06575987e+03, 3.00000000e+00,\n",
       "        9.00000000e+00, 3.00000000e+00],\n",
       "       [1.22900000e+03, 8.00000000e+00, 6.31568435e+03, 3.15086516e+00,\n",
       "        1.20000000e+01, 3.00000000e+00],\n",
       "       [5.66000000e+02, 7.00000000e+00, 1.08450000e+04, 3.00000000e+00,\n",
       "        1.84209077e+01, 3.00000000e+00]])"
      ]
     },
     "execution_count": 44,
     "metadata": {},
     "output_type": "execute_result"
    }
   ],
   "source": [
    "# instanciamos las clases\t\t\t\t\t\t\t\t\t\t\n",
    "imputer_iterative = IterativeImputer(max_iter = 20, random_state = 42)\t\t\t\n",
    "# ajustamos y tranformamos los datos\t\t\t\t\t\t\t\t\t\t\n",
    "imputer_iterative_imputado = imputer_iterative.fit_transform(df_rawdata_copy[['Dailyrate', 'Distancefromhome', 'Monthlyincome', 'Performancerating','Totalworkingyears', 'Worklifebalance']])\n",
    "# comprobamos que es lo que nos devuelve, que en este caso es un array también\t\t\t\t\t\n",
    "imputer_iterative_imputado\t\t\t\t\t\t\t\t\t\t\t\t\t\t\t\t\t\t\t\t\t\t"
   ]
  },
  {
   "cell_type": "code",
   "execution_count": 46,
   "metadata": {},
   "outputs": [
    {
     "name": "stdout",
     "output_type": "stream",
     "text": [
      "Después del 'Iterative' tenemos: \n",
      "Dailyrate_ITE            0\n",
      "Distancefromhome_ITE     0\n",
      "Monthlyincome_ITE        0\n",
      "Performancerating_ITE    0\n",
      "Totalworkingyears_ITE    0\n",
      "Worklifebalance_ITE      0\n",
      "dtype: int64 nulos\n"
     ]
    }
   ],
   "source": [
    "df_rawdata_copy[['Dailyrate_ITE', 'Distancefromhome_ITE', 'Monthlyincome_ITE', 'Performancerating_ITE','Totalworkingyears_ITE', 'Worklifebalance_ITE']] = imputer_iterative_imputado\t\t\t\t\t\t\t\t\t\t\n",
    "\t\t\t\t\t\t\t\t\t\t\n",
    "# comprobamos los nulos\t\t\t\t\t\t\t\t\t\t\n",
    "print(f\"Después del 'Iterative' tenemos: \\n{df_rawdata_copy[['Dailyrate_ITE', 'Distancefromhome_ITE', 'Monthlyincome_ITE', 'Performancerating_ITE', 'Totalworkingyears_ITE', 'Worklifebalance_ITE']].isnull().sum()} nulos\")\t\t\t\t\t\t\t\t\t\t\n",
    "\t\t\t\t\t\t\t\t\t\t"
   ]
  },
  {
   "cell_type": "code",
   "execution_count": null,
   "metadata": {},
   "outputs": [],
   "source": []
  },
  {
   "cell_type": "code",
   "execution_count": null,
   "metadata": {},
   "outputs": [],
   "source": []
  },
  {
   "cell_type": "code",
   "execution_count": null,
   "metadata": {},
   "outputs": [],
   "source": []
  },
  {
   "cell_type": "code",
   "execution_count": null,
   "metadata": {},
   "outputs": [],
   "source": [
    "#Nos faltó guardar el csv\n",
    "#df_rawdata.to_csv(\"raw_data_20231205.csv\")"
   ]
  }
 ],
 "metadata": {
  "kernelspec": {
   "display_name": "pruebalberto",
   "language": "python",
   "name": "python3"
  },
  "language_info": {
   "codemirror_mode": {
    "name": "ipython",
    "version": 3
   },
   "file_extension": ".py",
   "mimetype": "text/x-python",
   "name": "python",
   "nbconvert_exporter": "python",
   "pygments_lexer": "ipython3",
   "version": "3.11.4"
  }
 },
 "nbformat": 4,
 "nbformat_minor": 2
}
