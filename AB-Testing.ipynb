{
 "cells": [
  {
   "cell_type": "code",
   "execution_count": 1,
   "metadata": {},
   "outputs": [],
   "source": [
    "import pandas as pd\n",
    "import numpy as np\n",
    "\n",
    "# Visualización\n",
    "# ------------------------------------------------------------------------------\n",
    "import matplotlib.pyplot as plt\n",
    "import seaborn as sns\n",
    "\n",
    "# Evaluar linealidad de las relaciones entre las variables\n",
    "# y la distribución de las variables\n",
    "# ------------------------------------------------------------------------------\n",
    "import scipy.stats as stats\n",
    "from scipy.stats import shapiro, poisson, chisquare, expon, kstest, chi2_contingency, ttest_ind\n",
    "\n",
    "\n",
    "\n",
    "# Configuración\n",
    "# -----------------------------------------------------------------------\n",
    "pd.set_option('display.max_columns', None) # para poder visualizar todas las columnas de los DataFrames\n",
    "\n",
    "# Gestión de los warnings\n",
    "# -----------------------------------------------------------------------\n",
    "import warnings\n",
    "warnings.filterwarnings(\"ignore\")"
   ]
  },
  {
   "cell_type": "code",
   "execution_count": 2,
   "metadata": {},
   "outputs": [],
   "source": [
    "df = pd.read_csv(\"Data/raw_data_final_20231212.csv\", index_col=0)"
   ]
  },
  {
   "cell_type": "code",
   "execution_count": 3,
   "metadata": {},
   "outputs": [
    {
     "data": {
      "text/html": [
       "<div>\n",
       "<style scoped>\n",
       "    .dataframe tbody tr th:only-of-type {\n",
       "        vertical-align: middle;\n",
       "    }\n",
       "\n",
       "    .dataframe tbody tr th {\n",
       "        vertical-align: top;\n",
       "    }\n",
       "\n",
       "    .dataframe thead th {\n",
       "        text-align: right;\n",
       "    }\n",
       "</style>\n",
       "<table border=\"1\" class=\"dataframe\">\n",
       "  <thead>\n",
       "    <tr style=\"text-align: right;\">\n",
       "      <th></th>\n",
       "      <th>Age</th>\n",
       "      <th>Attrition</th>\n",
       "      <th>Businesstravel</th>\n",
       "      <th>Department</th>\n",
       "      <th>Education</th>\n",
       "      <th>Educationfield</th>\n",
       "      <th>Employeenumber</th>\n",
       "      <th>Environmentsatisfaction</th>\n",
       "      <th>Gender</th>\n",
       "      <th>Jobinvolvement</th>\n",
       "      <th>Joblevel</th>\n",
       "      <th>Jobrole</th>\n",
       "      <th>Jobsatisfaction</th>\n",
       "      <th>Maritalstatus</th>\n",
       "      <th>Monthlyrate</th>\n",
       "      <th>Numcompaniesworked</th>\n",
       "      <th>Overtime</th>\n",
       "      <th>Percentsalaryhike</th>\n",
       "      <th>Relationshipsatisfaction</th>\n",
       "      <th>Stockoptionlevel</th>\n",
       "      <th>Trainingtimeslastyear</th>\n",
       "      <th>Yearsatcompany</th>\n",
       "      <th>Yearssincelastpromotion</th>\n",
       "      <th>Yearswithcurrmanager</th>\n",
       "      <th>Datebirth</th>\n",
       "      <th>Remotework</th>\n",
       "      <th>Dailyrate</th>\n",
       "      <th>Distancefromhome</th>\n",
       "      <th>Monthlyincome</th>\n",
       "      <th>Performancerating</th>\n",
       "      <th>Totalworkingyears</th>\n",
       "      <th>Worklifebalance</th>\n",
       "      <th>Hourlyrate</th>\n",
       "    </tr>\n",
       "  </thead>\n",
       "  <tbody>\n",
       "    <tr>\n",
       "      <th>0</th>\n",
       "      <td>51</td>\n",
       "      <td>No</td>\n",
       "      <td>Unknown</td>\n",
       "      <td>Research &amp; Development</td>\n",
       "      <td>3</td>\n",
       "      <td>Unknown</td>\n",
       "      <td>162</td>\n",
       "      <td>Not Satisfied</td>\n",
       "      <td>Male</td>\n",
       "      <td>High</td>\n",
       "      <td>Executive</td>\n",
       "      <td>Research Director</td>\n",
       "      <td>Satisfied</td>\n",
       "      <td>Unknown</td>\n",
       "      <td>6462</td>\n",
       "      <td>7</td>\n",
       "      <td>No</td>\n",
       "      <td>13</td>\n",
       "      <td>Satisfied</td>\n",
       "      <td>0</td>\n",
       "      <td>5</td>\n",
       "      <td>20</td>\n",
       "      <td>15</td>\n",
       "      <td>15</td>\n",
       "      <td>1972</td>\n",
       "      <td>Yes</td>\n",
       "      <td>684.0</td>\n",
       "      <td>6.0</td>\n",
       "      <td>19537.0</td>\n",
       "      <td>3.0</td>\n",
       "      <td>13.6</td>\n",
       "      <td>3.0</td>\n",
       "      <td>51.0</td>\n",
       "    </tr>\n",
       "    <tr>\n",
       "      <th>1</th>\n",
       "      <td>52</td>\n",
       "      <td>No</td>\n",
       "      <td>Unknown</td>\n",
       "      <td>Unknown</td>\n",
       "      <td>4</td>\n",
       "      <td>Life Sciences</td>\n",
       "      <td>259</td>\n",
       "      <td>Satisfied</td>\n",
       "      <td>Male</td>\n",
       "      <td>Moderate</td>\n",
       "      <td>Executive</td>\n",
       "      <td>Manager</td>\n",
       "      <td>Satisfied</td>\n",
       "      <td>Unknown</td>\n",
       "      <td>5678</td>\n",
       "      <td>0</td>\n",
       "      <td>Unknown</td>\n",
       "      <td>14</td>\n",
       "      <td>Not Satisfied</td>\n",
       "      <td>1</td>\n",
       "      <td>5</td>\n",
       "      <td>33</td>\n",
       "      <td>11</td>\n",
       "      <td>9</td>\n",
       "      <td>1971</td>\n",
       "      <td>Yes</td>\n",
       "      <td>699.0</td>\n",
       "      <td>1.0</td>\n",
       "      <td>19999.0</td>\n",
       "      <td>3.0</td>\n",
       "      <td>34.0</td>\n",
       "      <td>3.0</td>\n",
       "      <td>65.0</td>\n",
       "    </tr>\n",
       "  </tbody>\n",
       "</table>\n",
       "</div>"
      ],
      "text/plain": [
       "   Age Attrition Businesstravel              Department  Education  \\\n",
       "0   51        No        Unknown  Research & Development          3   \n",
       "1   52        No        Unknown                 Unknown          4   \n",
       "\n",
       "  Educationfield  Employeenumber Environmentsatisfaction Gender  \\\n",
       "0        Unknown             162           Not Satisfied   Male   \n",
       "1  Life Sciences             259               Satisfied   Male   \n",
       "\n",
       "  Jobinvolvement   Joblevel            Jobrole Jobsatisfaction Maritalstatus  \\\n",
       "0           High  Executive  Research Director       Satisfied       Unknown   \n",
       "1       Moderate  Executive            Manager       Satisfied       Unknown   \n",
       "\n",
       "   Monthlyrate  Numcompaniesworked Overtime  Percentsalaryhike  \\\n",
       "0         6462                   7       No                 13   \n",
       "1         5678                   0  Unknown                 14   \n",
       "\n",
       "  Relationshipsatisfaction  Stockoptionlevel  Trainingtimeslastyear  \\\n",
       "0                Satisfied                 0                      5   \n",
       "1            Not Satisfied                 1                      5   \n",
       "\n",
       "   Yearsatcompany  Yearssincelastpromotion  Yearswithcurrmanager  Datebirth  \\\n",
       "0              20                       15                    15       1972   \n",
       "1              33                       11                     9       1971   \n",
       "\n",
       "  Remotework  Dailyrate  Distancefromhome  Monthlyincome  Performancerating  \\\n",
       "0        Yes      684.0               6.0        19537.0                3.0   \n",
       "1        Yes      699.0               1.0        19999.0                3.0   \n",
       "\n",
       "   Totalworkingyears  Worklifebalance  Hourlyrate  \n",
       "0               13.6              3.0        51.0  \n",
       "1               34.0              3.0        65.0  "
      ]
     },
     "execution_count": 3,
     "metadata": {},
     "output_type": "execute_result"
    }
   ],
   "source": [
    "df.head(2)"
   ]
  },
  {
   "cell_type": "markdown",
   "metadata": {},
   "source": [
    "# Clasificación de los registros por grupos según la satisfacción"
   ]
  },
  {
   "cell_type": "code",
   "execution_count": 4,
   "metadata": {},
   "outputs": [],
   "source": [
    "def category_satisfaction(value):\n",
    "    if (value==\"Satisfied\") or (value==\"Very Satisfied\"):\n",
    "        return 'A'\n",
    "    else:\n",
    "        return 'B'"
   ]
  },
  {
   "cell_type": "code",
   "execution_count": 5,
   "metadata": {},
   "outputs": [],
   "source": [
    "df['Groups'] = df['Jobsatisfaction'].apply(category_satisfaction)"
   ]
  },
  {
   "cell_type": "code",
   "execution_count": 6,
   "metadata": {},
   "outputs": [
    {
     "data": {
      "text/plain": [
       "0       A\n",
       "1       A\n",
       "2       A\n",
       "3       A\n",
       "4       B\n",
       "       ..\n",
       "1609    A\n",
       "1610    B\n",
       "1611    A\n",
       "1612    A\n",
       "1613    A\n",
       "Name: Groups, Length: 1510, dtype: object"
      ]
     },
     "execution_count": 6,
     "metadata": {},
     "output_type": "execute_result"
    }
   ],
   "source": [
    "df[\"Groups\"]"
   ]
  },
  {
   "cell_type": "markdown",
   "metadata": {},
   "source": [
    "# Cálculo de los porcentajes de \"ATTRITION\""
   ]
  },
  {
   "cell_type": "markdown",
   "metadata": {},
   "source": [
    "La métrica principal que debes usar es la tasa de rotación de empleados (Attrition) en cada grupo. Recordemos que, en esta columna, \"No\" indica que el empleado no ha dejado la empresa (sin rotación), mientras que \"Yes\" indica que el empleado ha dejado la empresa (con rotación).\n",
    "Por lo tanto, los pasos que deberás seguir en esta fase son:\n",
    "Divide a los empleados en los grupos A y B según los criterios establecidos.\n",
    "Calcula la tasa de rotación (porcentaje de empleados que dejaron la empresa) en cada grupo."
   ]
  },
  {
   "cell_type": "code",
   "execution_count": 10,
   "metadata": {},
   "outputs": [],
   "source": [
    "group_a= df[df[\"Groups\"]==\"A\"]"
   ]
  },
  {
   "cell_type": "code",
   "execution_count": 16,
   "metadata": {},
   "outputs": [
    {
     "data": {
      "text/plain": [
       "(925, 34)"
      ]
     },
     "execution_count": 16,
     "metadata": {},
     "output_type": "execute_result"
    }
   ],
   "source": [
    "group_a.shape"
   ]
  },
  {
   "cell_type": "code",
   "execution_count": 17,
   "metadata": {},
   "outputs": [
    {
     "data": {
      "text/plain": [
       "No     86.27027\n",
       "Yes    13.72973\n",
       "Name: Attrition, dtype: float64"
      ]
     },
     "execution_count": 17,
     "metadata": {},
     "output_type": "execute_result"
    }
   ],
   "source": [
    "group_a[\"Attrition\"].value_counts()/group_a.shape[0]*100"
   ]
  },
  {
   "cell_type": "code",
   "execution_count": 18,
   "metadata": {},
   "outputs": [],
   "source": [
    "group_b= df[df[\"Groups\"]==\"B\"]"
   ]
  },
  {
   "cell_type": "code",
   "execution_count": 19,
   "metadata": {},
   "outputs": [
    {
     "data": {
      "text/plain": [
       "(585, 34)"
      ]
     },
     "execution_count": 19,
     "metadata": {},
     "output_type": "execute_result"
    }
   ],
   "source": [
    "group_b.shape"
   ]
  },
  {
   "cell_type": "code",
   "execution_count": 20,
   "metadata": {},
   "outputs": [
    {
     "data": {
      "text/plain": [
       "No     80.512821\n",
       "Yes    19.487179\n",
       "Name: Attrition, dtype: float64"
      ]
     },
     "execution_count": 20,
     "metadata": {},
     "output_type": "execute_result"
    }
   ],
   "source": [
    "group_b[\"Attrition\"].value_counts()/group_b.shape[0]*100"
   ]
  },
  {
   "cell_type": "code",
   "execution_count": 22,
   "metadata": {},
   "outputs": [],
   "source": [
    "rotacion_por_grupo = df[df['Attrition'] == 'Yes'].groupby('Groups').size() / df.groupby('Groups').size() * 100"
   ]
  },
  {
   "cell_type": "code",
   "execution_count": 25,
   "metadata": {},
   "outputs": [
    {
     "data": {
      "text/plain": [
       "Groups\n",
       "A    13.729730\n",
       "B    19.487179\n",
       "dtype: float64"
      ]
     },
     "execution_count": 25,
     "metadata": {},
     "output_type": "execute_result"
    }
   ],
   "source": [
    "rotacion_por_grupo"
   ]
  },
  {
   "cell_type": "markdown",
   "metadata": {},
   "source": [
    "# Prueba Estadística"
   ]
  },
  {
   "cell_type": "markdown",
   "metadata": {},
   "source": [
    "Comprobar los tres supuestos para pruebas paramétricas: \n",
    "    Evalúa la normalidad de una columna de datos de un DataFrame utilizando la prueba de Shapiro-Wilk.\n",
    "\n",
    "    Parámetros:\n",
    "        dataframe (DataFrame): El DataFrame que contiene los datos.\n",
    "        columna (str): El nombre de la columna en el DataFrame que se va a evaluar para la normalidad.\n",
    "\n",
    "    Returns:\n",
    "        None: Imprime un mensaje indicando si los datos siguen o no una distribución normal.\n",
    "    \"\"\"\n",
    "\n",
    "    statistic, p_value = stats.shapiro(dataframe[columna])\n",
    "    if p_value > 0.05:\n",
    "        print(f\"Para la columna {columna} los datos siguen una distribución normal.\")\n",
    "    else:\n",
    "        print(f\"Para la columna {columna} los datos no siguen una distribución normal.\")"
   ]
  },
  {
   "cell_type": "code",
   "execution_count": 26,
   "metadata": {},
   "outputs": [
    {
     "name": "stdout",
     "output_type": "stream",
     "text": [
      "\n",
      "Resultados del test de Chi-cuadrado:\n",
      "Estadística de Chi-cuadrado: 8.432334983446875\n",
      "P-valor: 0.0036860670797145547\n",
      "\n",
      "Hay evidencia suficiente para rechazar la hipótesis nula.\n"
     ]
    }
   ],
   "source": [
    "# Crear una tabla de contingencia\n",
    "contingency_table = pd.crosstab(df['Attrition'], df['Groups'])\n",
    "\n",
    "# Ejecutar el test de chi-cuadrado\n",
    "chi2, p_valor, _, _ = chi2_contingency(contingency_table)\n",
    "\n",
    "# Mostrar los resultados del test\n",
    "print(\"\\nResultados del test de Chi-cuadrado:\")\n",
    "print(f\"Estadística de Chi-cuadrado: {chi2}\")\n",
    "print(f\"P-valor: {p_valor}\")\n",
    "\n",
    "# Interpretación del resultado\n",
    "alpha = 0.05  # Nivel de significancia\n",
    "if p_valor < alpha:\n",
    "    print(\"\\nHay evidencia suficiente para rechazar la hipótesis nula.\")\n",
    "else:\n",
    "    print(\"\\nNo hay suficiente evidencia para rechazar la hipótesis nula.\")"
   ]
  }
 ],
 "metadata": {
  "kernelspec": {
   "display_name": "base",
   "language": "python",
   "name": "python3"
  },
  "language_info": {
   "codemirror_mode": {
    "name": "ipython",
    "version": 3
   },
   "file_extension": ".py",
   "mimetype": "text/x-python",
   "name": "python",
   "nbconvert_exporter": "python",
   "pygments_lexer": "ipython3",
   "version": "3.9.7"
  }
 },
 "nbformat": 4,
 "nbformat_minor": 2
}
