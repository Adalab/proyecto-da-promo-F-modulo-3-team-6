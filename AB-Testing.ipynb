{
 "cells": [
  {
   "cell_type": "markdown",
   "metadata": {},
   "source": [
    "## 14 de Diciembre"
   ]
  },
  {
   "cell_type": "code",
   "execution_count": 58,
   "metadata": {},
   "outputs": [],
   "source": [
    "import pandas as pd\n",
    "import numpy as np\n",
    "\n",
    "# Visualización\n",
    "# ------------------------------------------------------------------------------\n",
    "import matplotlib.pyplot as plt\n",
    "import seaborn as sns\n",
    "\n",
    "# Evaluar linealidad de las relaciones entre las variables\n",
    "# y la distribución de las variables\n",
    "# ------------------------------------------------------------------------------\n",
    "import scipy.stats as stats\n",
    "from scipy.stats import shapiro, poisson, chisquare, expon, kstest, chi2_contingency, ttest_ind, mannwhitneyu\n",
    "\n",
    "\n",
    "# Configuración\n",
    "# -----------------------------------------------------------------------\n",
    "pd.set_option('display.max_columns', None) # para poder visualizar todas las columnas de los DataFrames\n",
    "\n",
    "# Gestión de los warnings\n",
    "# -----------------------------------------------------------------------\n",
    "import warnings\n",
    "warnings.filterwarnings(\"ignore\")"
   ]
  },
  {
   "cell_type": "code",
   "execution_count": 59,
   "metadata": {},
   "outputs": [],
   "source": [
    "df = pd.read_csv(\"Data/raw_data_final_20231212.csv\", index_col=0)"
   ]
  },
  {
   "cell_type": "code",
   "execution_count": 60,
   "metadata": {},
   "outputs": [
    {
     "data": {
      "text/html": [
       "<div>\n",
       "<style scoped>\n",
       "    .dataframe tbody tr th:only-of-type {\n",
       "        vertical-align: middle;\n",
       "    }\n",
       "\n",
       "    .dataframe tbody tr th {\n",
       "        vertical-align: top;\n",
       "    }\n",
       "\n",
       "    .dataframe thead th {\n",
       "        text-align: right;\n",
       "    }\n",
       "</style>\n",
       "<table border=\"1\" class=\"dataframe\">\n",
       "  <thead>\n",
       "    <tr style=\"text-align: right;\">\n",
       "      <th></th>\n",
       "      <th>Age</th>\n",
       "      <th>Attrition</th>\n",
       "      <th>Businesstravel</th>\n",
       "      <th>Department</th>\n",
       "      <th>Education</th>\n",
       "      <th>Educationfield</th>\n",
       "      <th>Employeenumber</th>\n",
       "      <th>Environmentsatisfaction</th>\n",
       "      <th>Gender</th>\n",
       "      <th>Jobinvolvement</th>\n",
       "      <th>Joblevel</th>\n",
       "      <th>Jobrole</th>\n",
       "      <th>Jobsatisfaction</th>\n",
       "      <th>Maritalstatus</th>\n",
       "      <th>Monthlyrate</th>\n",
       "      <th>Numcompaniesworked</th>\n",
       "      <th>Overtime</th>\n",
       "      <th>Percentsalaryhike</th>\n",
       "      <th>Relationshipsatisfaction</th>\n",
       "      <th>Stockoptionlevel</th>\n",
       "      <th>Trainingtimeslastyear</th>\n",
       "      <th>Yearsatcompany</th>\n",
       "      <th>Yearssincelastpromotion</th>\n",
       "      <th>Yearswithcurrmanager</th>\n",
       "      <th>Datebirth</th>\n",
       "      <th>Remotework</th>\n",
       "      <th>Dailyrate</th>\n",
       "      <th>Distancefromhome</th>\n",
       "      <th>Monthlyincome</th>\n",
       "      <th>Performancerating</th>\n",
       "      <th>Totalworkingyears</th>\n",
       "      <th>Worklifebalance</th>\n",
       "      <th>Hourlyrate</th>\n",
       "    </tr>\n",
       "  </thead>\n",
       "  <tbody>\n",
       "    <tr>\n",
       "      <th>0</th>\n",
       "      <td>51</td>\n",
       "      <td>No</td>\n",
       "      <td>Unknown</td>\n",
       "      <td>Research &amp; Development</td>\n",
       "      <td>3</td>\n",
       "      <td>Unknown</td>\n",
       "      <td>162</td>\n",
       "      <td>Not Satisfied</td>\n",
       "      <td>Male</td>\n",
       "      <td>High</td>\n",
       "      <td>Executive</td>\n",
       "      <td>Research Director</td>\n",
       "      <td>Satisfied</td>\n",
       "      <td>Unknown</td>\n",
       "      <td>6462</td>\n",
       "      <td>7</td>\n",
       "      <td>No</td>\n",
       "      <td>13</td>\n",
       "      <td>Satisfied</td>\n",
       "      <td>0</td>\n",
       "      <td>5</td>\n",
       "      <td>20</td>\n",
       "      <td>15</td>\n",
       "      <td>15</td>\n",
       "      <td>1972</td>\n",
       "      <td>Yes</td>\n",
       "      <td>684.0</td>\n",
       "      <td>6.0</td>\n",
       "      <td>19537.0</td>\n",
       "      <td>3.0</td>\n",
       "      <td>13.6</td>\n",
       "      <td>3.0</td>\n",
       "      <td>51.0</td>\n",
       "    </tr>\n",
       "    <tr>\n",
       "      <th>1</th>\n",
       "      <td>52</td>\n",
       "      <td>No</td>\n",
       "      <td>Unknown</td>\n",
       "      <td>Unknown</td>\n",
       "      <td>4</td>\n",
       "      <td>Life Sciences</td>\n",
       "      <td>259</td>\n",
       "      <td>Satisfied</td>\n",
       "      <td>Male</td>\n",
       "      <td>Moderate</td>\n",
       "      <td>Executive</td>\n",
       "      <td>Manager</td>\n",
       "      <td>Satisfied</td>\n",
       "      <td>Unknown</td>\n",
       "      <td>5678</td>\n",
       "      <td>0</td>\n",
       "      <td>Unknown</td>\n",
       "      <td>14</td>\n",
       "      <td>Not Satisfied</td>\n",
       "      <td>1</td>\n",
       "      <td>5</td>\n",
       "      <td>33</td>\n",
       "      <td>11</td>\n",
       "      <td>9</td>\n",
       "      <td>1971</td>\n",
       "      <td>Yes</td>\n",
       "      <td>699.0</td>\n",
       "      <td>1.0</td>\n",
       "      <td>19999.0</td>\n",
       "      <td>3.0</td>\n",
       "      <td>34.0</td>\n",
       "      <td>3.0</td>\n",
       "      <td>65.0</td>\n",
       "    </tr>\n",
       "  </tbody>\n",
       "</table>\n",
       "</div>"
      ],
      "text/plain": [
       "   Age Attrition Businesstravel              Department  Education  \\\n",
       "0   51        No        Unknown  Research & Development          3   \n",
       "1   52        No        Unknown                 Unknown          4   \n",
       "\n",
       "  Educationfield  Employeenumber Environmentsatisfaction Gender  \\\n",
       "0        Unknown             162           Not Satisfied   Male   \n",
       "1  Life Sciences             259               Satisfied   Male   \n",
       "\n",
       "  Jobinvolvement   Joblevel            Jobrole Jobsatisfaction Maritalstatus  \\\n",
       "0           High  Executive  Research Director       Satisfied       Unknown   \n",
       "1       Moderate  Executive            Manager       Satisfied       Unknown   \n",
       "\n",
       "   Monthlyrate  Numcompaniesworked Overtime  Percentsalaryhike  \\\n",
       "0         6462                   7       No                 13   \n",
       "1         5678                   0  Unknown                 14   \n",
       "\n",
       "  Relationshipsatisfaction  Stockoptionlevel  Trainingtimeslastyear  \\\n",
       "0                Satisfied                 0                      5   \n",
       "1            Not Satisfied                 1                      5   \n",
       "\n",
       "   Yearsatcompany  Yearssincelastpromotion  Yearswithcurrmanager  Datebirth  \\\n",
       "0              20                       15                    15       1972   \n",
       "1              33                       11                     9       1971   \n",
       "\n",
       "  Remotework  Dailyrate  Distancefromhome  Monthlyincome  Performancerating  \\\n",
       "0        Yes      684.0               6.0        19537.0                3.0   \n",
       "1        Yes      699.0               1.0        19999.0                3.0   \n",
       "\n",
       "   Totalworkingyears  Worklifebalance  Hourlyrate  \n",
       "0               13.6              3.0        51.0  \n",
       "1               34.0              3.0        65.0  "
      ]
     },
     "execution_count": 60,
     "metadata": {},
     "output_type": "execute_result"
    }
   ],
   "source": [
    "df.head(2)"
   ]
  },
  {
   "cell_type": "markdown",
   "metadata": {},
   "source": [
    "## 1.Divide a los empleados en los grupos A y B según los criterios establecidos."
   ]
  },
  {
   "cell_type": "markdown",
   "metadata": {},
   "source": [
    "# Clasificación de los registros por grupos según la satisfacción"
   ]
  },
  {
   "cell_type": "code",
   "execution_count": 61,
   "metadata": {},
   "outputs": [],
   "source": [
    "def category_satisfaction(value):\n",
    "    if (value==\"Satisfied\") or (value==\"Very Satisfied\"):\n",
    "        return 'A'\n",
    "    else:\n",
    "        return 'B'"
   ]
  },
  {
   "cell_type": "code",
   "execution_count": 62,
   "metadata": {},
   "outputs": [],
   "source": [
    "df['Groups'] = df['Jobsatisfaction'].apply(category_satisfaction)"
   ]
  },
  {
   "cell_type": "code",
   "execution_count": 63,
   "metadata": {},
   "outputs": [
    {
     "data": {
      "text/plain": [
       "0       A\n",
       "1       A\n",
       "2       A\n",
       "3       A\n",
       "4       B\n",
       "       ..\n",
       "1609    A\n",
       "1610    B\n",
       "1611    A\n",
       "1612    A\n",
       "1613    A\n",
       "Name: Groups, Length: 1510, dtype: object"
      ]
     },
     "execution_count": 63,
     "metadata": {},
     "output_type": "execute_result"
    }
   ],
   "source": [
    "df[\"Groups\"]"
   ]
  },
  {
   "cell_type": "markdown",
   "metadata": {},
   "source": [
    "# Cálculo de los porcentajes de \"ATTRITION\""
   ]
  },
  {
   "cell_type": "markdown",
   "metadata": {},
   "source": [
    "La métrica principal que debes usar es la tasa de rotación de empleados (Attrition) en cada grupo. Recordemos que, en esta columna, \"No\" indica que el empleado no ha dejado la empresa (sin rotación), mientras que \"Yes\" indica que el empleado ha dejado la empresa (con rotación).\n",
    "Por lo tanto, los pasos que deberás seguir en esta fase son:\n",
    "Divide a los empleados en los grupos A y B según los criterios establecidos.\n",
    "Calcula la tasa de rotación (porcentaje de empleados que dejaron la empresa) en cada grupo."
   ]
  },
  {
   "cell_type": "code",
   "execution_count": 64,
   "metadata": {},
   "outputs": [],
   "source": [
    "group_a= df[df[\"Groups\"]==\"A\"]"
   ]
  },
  {
   "cell_type": "code",
   "execution_count": 65,
   "metadata": {},
   "outputs": [
    {
     "data": {
      "text/plain": [
       "(925, 34)"
      ]
     },
     "execution_count": 65,
     "metadata": {},
     "output_type": "execute_result"
    }
   ],
   "source": [
    "group_a.shape"
   ]
  },
  {
   "cell_type": "code",
   "execution_count": 66,
   "metadata": {},
   "outputs": [
    {
     "data": {
      "text/plain": [
       "Attrition\n",
       "No     86.27027\n",
       "Yes    13.72973\n",
       "Name: count, dtype: float64"
      ]
     },
     "execution_count": 66,
     "metadata": {},
     "output_type": "execute_result"
    }
   ],
   "source": [
    "group_a[\"Attrition\"].value_counts()/group_a.shape[0]*100"
   ]
  },
  {
   "cell_type": "code",
   "execution_count": 67,
   "metadata": {},
   "outputs": [],
   "source": [
    "group_b= df[df[\"Groups\"]==\"B\"]"
   ]
  },
  {
   "cell_type": "code",
   "execution_count": 68,
   "metadata": {},
   "outputs": [
    {
     "data": {
      "text/plain": [
       "(585, 34)"
      ]
     },
     "execution_count": 68,
     "metadata": {},
     "output_type": "execute_result"
    }
   ],
   "source": [
    "group_b.shape"
   ]
  },
  {
   "cell_type": "code",
   "execution_count": 69,
   "metadata": {},
   "outputs": [
    {
     "data": {
      "text/plain": [
       "Attrition\n",
       "No     80.512821\n",
       "Yes    19.487179\n",
       "Name: count, dtype: float64"
      ]
     },
     "execution_count": 69,
     "metadata": {},
     "output_type": "execute_result"
    }
   ],
   "source": [
    "group_b[\"Attrition\"].value_counts()/group_b.shape[0]*100"
   ]
  },
  {
   "cell_type": "code",
   "execution_count": 70,
   "metadata": {},
   "outputs": [],
   "source": [
    "rotacion_por_grupo = df[df['Attrition'] == 'Yes'].groupby('Groups').size() / df.groupby('Groups').size() * 100"
   ]
  },
  {
   "cell_type": "code",
   "execution_count": 71,
   "metadata": {},
   "outputs": [
    {
     "name": "stdout",
     "output_type": "stream",
     "text": [
      "La tasa de rotación de cada grupo es:\n",
      "Grupo A: 13.729729729729732\n",
      "Grupo B: 19.48717948717949\n"
     ]
    }
   ],
   "source": [
    "# Calcular la tasa de rotación por grupo en porcentaje\n",
    "rotacion_por_grupo = df[df['Attrition'] == 'Yes'].groupby('Groups').size() / df.groupby('Groups').size() * 100\n",
    "\n",
    "# Imprimir los resultados\n",
    "print(\"La tasa de rotación de cada grupo es:\")\n",
    "for grupo, tasa in rotacion_por_grupo.items():\n",
    "    print(f\"Grupo {grupo}: {tasa}\")\n"
   ]
  },
  {
   "cell_type": "markdown",
   "metadata": {},
   "source": [
    "# Prueba Estadística"
   ]
  },
  {
   "cell_type": "markdown",
   "metadata": {},
   "source": [
    "Comprobar los tres supuestos para pruebas paramétricas: \n",
    "    Evalúa la normalidad de una columna de datos de un DataFrame utilizando la prueba de Shapiro-Wilk.\n",
    "\n",
    "    Parámetros:\n",
    "        dataframe (DataFrame): El DataFrame que contiene los datos.\n",
    "        columna (str): El nombre de la columna en el DataFrame que se va a evaluar para la normalidad.\n",
    "\n",
    "    Returns:\n",
    "        None: Imprime un mensaje indicando si los datos siguen o no una distribución normal.\n",
    "    \"\"\"\n",
    "\n",
    "    statistic, p_value = stats.shapiro(dataframe[columna])\n",
    "    if p_value > 0.05:\n",
    "        print(f\"Para la columna {columna} los datos siguen una distribución normal.\")\n",
    "    else:\n",
    "        print(f\"Para la columna {columna} los datos no siguen una distribución normal.\")"
   ]
  },
  {
   "cell_type": "markdown",
   "metadata": {},
   "source": []
  },
  {
   "cell_type": "markdown",
   "metadata": {},
   "source": [
    "# 15 de Diciembre"
   ]
  },
  {
   "cell_type": "markdown",
   "metadata": {},
   "source": [
    "Antes de hacer la prueba estadística:\n",
    "\n",
    " - para cálculos donde se necesita valor numérico, vamos a hacer un mapeo de los valores de Attrition, ya que es de tipo object. Para ello creamos este mapeo (Yes = 1 y No = 0)\n",
    " \n",
    " - para los cálculos donde se permiten valores tipo object (chi-cuadrado), utilizamos la columna Attrition original"
   ]
  },
  {
   "cell_type": "code",
   "execution_count": 72,
   "metadata": {},
   "outputs": [],
   "source": [
    "# utilizamos esta columna de nueva creación en los cálculos de estadísticas que necesitan valores numéricos\n",
    "df['Attrition_num'] = df['Attrition'].map({'Yes':1, 'No':0})"
   ]
  },
  {
   "cell_type": "markdown",
   "metadata": {},
   "source": [
    "### Análisis de normalidad"
   ]
  },
  {
   "cell_type": "code",
   "execution_count": 73,
   "metadata": {},
   "outputs": [],
   "source": [
    "# Análisis de normalidad:\n",
    "\n",
    "# Función para testar la normalidad de los datos\n",
    "def normalidad(dataframe, columna):\n",
    "    statistic, p_value = stats.shapiro(dataframe[columna])\n",
    "    if p_value > 0.05:\n",
    "        print(f\"Para la columna {columna} los datos siguen una distribución normal.\")\n",
    "    else:\n",
    "        print(f\"Para la columna {columna} los datos no siguen una distribución normal.\")"
   ]
  },
  {
   "cell_type": "code",
   "execution_count": 74,
   "metadata": {},
   "outputs": [
    {
     "name": "stdout",
     "output_type": "stream",
     "text": [
      "Para la columna Attrition_num los datos no siguen una distribución normal.\n"
     ]
    }
   ],
   "source": [
    "metricas = ['Attrition_num']\n",
    "\n",
    "for metrica in metricas:\n",
    "    normalidad(df ,metrica)"
   ]
  },
  {
   "cell_type": "markdown",
   "metadata": {},
   "source": [
    "### Análisis de la homogeneidad de varianzas"
   ]
  },
  {
   "cell_type": "code",
   "execution_count": 75,
   "metadata": {},
   "outputs": [],
   "source": [
    "# Creamos función para evaluar la homogeneidad de las varianzas entre grupos para la métrica Attrition_num de nuestro df\n",
    "\n",
    "def homogeneidad (dataframe, columna, columna_metrica):\n",
    "     \n",
    "    # lo primero que tenemos que hacer es crear tantos conjuntos de datos para cada una de las categorías que tenemos, Control Campaign y Test Campaign\n",
    "    valores_evaluar = []\n",
    "    \n",
    "    for valor in dataframe[columna].unique():\n",
    "        valores_evaluar.append(dataframe[dataframe[columna]== valor][columna_metrica])\n",
    "\n",
    "    statistic, p_value = stats.levene(*valores_evaluar)\n",
    "    if p_value > 0.05:\n",
    "        print(f\"Para la métrica {columna_metrica} las varianzas son homogéneas entre grupos.\")\n",
    "    else:\n",
    "        print(f\"Para la métrica {columna_metrica}, las varianzas no son homogéneas entre grupos.\")"
   ]
  },
  {
   "cell_type": "code",
   "execution_count": 76,
   "metadata": {},
   "outputs": [
    {
     "name": "stdout",
     "output_type": "stream",
     "text": [
      "Para la métrica Attrition_num, las varianzas no son homogéneas entre grupos.\n"
     ]
    }
   ],
   "source": [
    "metricas = ['Attrition_num']\n",
    "\n",
    "for metrica in metricas:\n",
    "    homogeneidad(df ,'Groups', metrica)"
   ]
  },
  {
   "cell_type": "markdown",
   "metadata": {},
   "source": [
    "### Análisis de la Independencia de las observaciones"
   ]
  },
  {
   "cell_type": "code",
   "execution_count": 77,
   "metadata": {},
   "outputs": [
    {
     "name": "stdout",
     "output_type": "stream",
     "text": [
      "Prueba de Chi-cuadrado - p-valor: 0.0036860670797145547\n"
     ]
    }
   ],
   "source": [
    "# aquí volvemos a utilizar Attrition\n",
    "# Realizar la prueba de chi-cuadrado para evaluar la independencia de dos variables categóricas\n",
    "contingency_table = pd.crosstab(df['Groups'], df['Attrition'])\n",
    "chi2, p_chi2, _, _ = chi2_contingency(contingency_table)\n",
    "print(f\"Prueba de Chi-cuadrado - p-valor: {p_chi2}\")"
   ]
  },
  {
   "cell_type": "code",
   "execution_count": 78,
   "metadata": {},
   "outputs": [
    {
     "name": "stdout",
     "output_type": "stream",
     "text": [
      "Prueba t para Attrition entre Grupo A y Grupo B y Test - p-valor: 0.0029025283865571736\n"
     ]
    }
   ],
   "source": [
    "# para este análisis, necesitamos dato numérico, utilizamos Attrition_num\n",
    "# Realizar una prueba t para comparar las medias de dos grupos (por ejemplo, Control vs. Test)\n",
    "control_group = df[df['Groups'] == 'A']\n",
    "test_group = df[df['Groups'] == 'B']\n",
    "t_stat, p_ttest = ttest_ind(control_group['Attrition_num'], test_group['Attrition_num'])\n",
    "print(f\"Prueba t para Attrition entre Grupo A y Grupo B y Test - p-valor: {p_ttest}\")"
   ]
  },
  {
   "cell_type": "markdown",
   "metadata": {},
   "source": [
    "Con todo lo anterior se concluye que <span style=\"color:#D4AF37\"> nuestros datos no cumplen el supuesto de normalidad ni el de homogeneidad</span>.\n",
    "\n",
    "Vamos a realizar pruebas no paramétricas, concretamente el **Test de chi-cuadrado**."
   ]
  },
  {
   "cell_type": "code",
   "execution_count": 82,
   "metadata": {},
   "outputs": [],
   "source": [
    "#Creamos una función para el cálculo del Test de chi-cuadrado\n",
    "def statistics_test(column1, column2):\n",
    "\n",
    "    # Crear una tabla de contingencia\n",
    "    contingency_table = pd.crosstab(column1, column2)\n",
    "\n",
    "    # Ejecutar el test de chi-cuadrado\n",
    "    chi2, p_valor, _, _ = chi2_contingency(contingency_table)\n",
    "\n",
    "    # Mostrar los resultados del test\n",
    "    print(\"\\nResultados del test de Chi-cuadrado:\")\n",
    "    print(f\"Estadística de Chi-cuadrado: {chi2}\")\n",
    "    print(f\"P-valor: {p_valor}\")\n",
    "\n",
    "    # Interpretación del resultado\n",
    "    alpha = 0.05  # Nivel de significancia\n",
    "    if p_valor < alpha:\n",
    "        print(\"\\nPara la métrica de Attrition existe evidencia suficiente para rechazar la hipótesis nula.\")\n",
    "    else:\n",
    "        print(\"\\nNo hay suficiente evidencia para rechazar la hipótesis nula.\")"
   ]
  },
  {
   "cell_type": "code",
   "execution_count": 83,
   "metadata": {},
   "outputs": [
    {
     "name": "stdout",
     "output_type": "stream",
     "text": [
      "\n",
      "Resultados del test de Chi-cuadrado:\n",
      "Estadística de Chi-cuadrado: 8.432334983446875\n",
      "P-valor: 0.0036860670797145547\n",
      "\n",
      "Para la métrica de Attrition existe evidencia suficiente para rechazar la hipótesis nula.\n"
     ]
    }
   ],
   "source": [
    "statistics_test(df['Attrition'], df['Groups'])"
   ]
  },
  {
   "cell_type": "markdown",
   "metadata": {},
   "source": [
    "### Interpretación de los resultados\n",
    "\n",
    "- Los datos sugieren que existe una diferencia significativa en la tasa de rotación entre los grupos de mayor y menor satisfacción laboral, ya que los p-valores son menores que 0.05.\n",
    "\n",
    "> **Conclusión**: Resultado del análisis estadístico de los datos sugiere que <span style=\"color:#D4AF37\"> existen diferencias significativas entre la tasa de rotación de empleados con mayor y menor satisfacción laboral</span>."
   ]
  },
  {
   "cell_type": "markdown",
   "metadata": {},
   "source": [
    "### 4. Calculamos la magnitud de la relación entre cada grupo A-B y su Attrition."
   ]
  },
  {
   "cell_type": "markdown",
   "metadata": {},
   "source": [
    "-  \"Diferencia de medias y medianas\""
   ]
  },
  {
   "cell_type": "code",
   "execution_count": 80,
   "metadata": {},
   "outputs": [
    {
     "name": "stdout",
     "output_type": "stream",
     "text": [
      "Diferencia de medias: 0.05757449757449756\n",
      "Diferencia de medianas: 0.0\n"
     ]
    }
   ],
   "source": [
    "# Calcular la diferencia entre las medias\n",
    "media_grupo_A = df[df['Groups'] == 'A']['Attrition_num'].mean()\n",
    "media_grupo_B = df[df['Groups'] == 'B']['Attrition_num'].mean()\n",
    "diferencia_medias = media_grupo_B - media_grupo_A\n",
    "\n",
    "# Calcular la diferencia entre las medianas\n",
    "mediana_grupo_A = df[df['Groups'] == 'A']['Attrition_num'].median()\n",
    "mediana_grupo_B = df[df['Groups'] == 'B']['Attrition_num'].median()\n",
    "diferencia_medianas = mediana_grupo_B - mediana_grupo_A\n",
    "\n",
    "print(\"Diferencia de medias:\", diferencia_medias)\n",
    "print(\"Diferencia de medianas:\", diferencia_medianas)\n"
   ]
  },
  {
   "cell_type": "markdown",
   "metadata": {},
   "source": [
    "> **Conclusión**: \n",
    "\n",
    "> El análisis diferencial de medianas nos sugiere que \n",
    "\n",
    "> El análisis diferencial de medias sugiere que, en promedio, <span style=\"color:#D4AF37\">la tasa de rotación es ligeramente más alta en el Grupo B *pobre satisfacción laboral* en comparación con el Grupo A *alta satisfacción laboral*</span>, con una magnitud de *aproximadamente 0.057575*."
   ]
  },
  {
   "cell_type": "markdown",
   "metadata": {},
   "source": [
    " - Prueba de Mann-Whitney U:"
   ]
  },
  {
   "cell_type": "code",
   "execution_count": 81,
   "metadata": {},
   "outputs": [
    {
     "name": "stdout",
     "output_type": "stream",
     "text": [
      "Prueba de Mann-Whitney U - p-valor: 0.0029309760646217035\n",
      "Tamaño de efecto: 21.176245370305093\n",
      "Se rechaza la hipótesis nula.\n",
      "Hay evidencia suficiente para sugerir que existe una diferencia significativa entre los grupos.\n"
     ]
    }
   ],
   "source": [
    "# Prueba de Mann-Whitney U\n",
    "stat, p_valor = mannwhitneyu(df[df['Groups'] == 'A']['Attrition_num'], df[df['Groups'] == 'B']['Attrition_num'])\n",
    "tamaño_efecto = abs((stat - (len(df[df['Groups'] == 'A']['Attrition_num']) * len(df[df['Groups'] == 'B']['Attrition_num']) / 2)) / np.sqrt(len(df[df['Groups'] == 'A']['Attrition_num']) * len(df[df['Groups'] == 'B']['Attrition_num'])))\n",
    "print(\"Prueba de Mann-Whitney U - p-valor:\", p_valor)\n",
    "print(\"Tamaño de efecto:\", tamaño_efecto)\n",
    "\n",
    "# Evaluar el p-valor\n",
    "nivel_de_significancia = 0.05  # Nivel de significancia comúnmente usado\n",
    "\n",
    "if p_valor < nivel_de_significancia:\n",
    "    print(\"Se rechaza la hipótesis nula.\")\n",
    "    print(\"Hay evidencia suficiente para sugerir que existe una diferencia significativa entre los grupos.\")\n",
    "else:\n",
    "    print(\"No se puede rechazar la hipótesis nula.\")\n",
    "    print(\"No hay suficiente evidencia para afirmar que existe una diferencia significativa entre los grupos.\")"
   ]
  },
  {
   "cell_type": "markdown",
   "metadata": {},
   "source": [
    "> **Conclusión**:\n",
    "> El **p-valor de 0.0029** sugiere que hay evidencia estadística significativa para rechazar la hipótesis nula. Esto sugiere que <span style=\"color:#D4AF37\"> existe una diferencia significativa entre las distribuciones de las tasas de rotación entre los dos grupos.</span>. La magnitud de esa diferencia es grande, tal y como sugiere el **Tamaño de efecto 21.176** , lo que sugiere un <span style=\"color:#D4AF37\"> la magnitud de la diferencia entre los el grupo A (alta satisfacción laboral) y el grupo B (baja satisfacción laboral) en términos de la magnitud de la diferencia en las medianas de las distribuciones de los grupos</span>."
   ]
  }
 ],
 "metadata": {
  "kernelspec": {
   "display_name": "base",
   "language": "python",
   "name": "python3"
  },
  "language_info": {
   "codemirror_mode": {
    "name": "ipython",
    "version": 3
   },
   "file_extension": ".py",
   "mimetype": "text/x-python",
   "name": "python",
   "nbconvert_exporter": "python",
   "pygments_lexer": "ipython3",
   "version": "3.12.0"
  }
 },
 "nbformat": 4,
 "nbformat_minor": 2
}
