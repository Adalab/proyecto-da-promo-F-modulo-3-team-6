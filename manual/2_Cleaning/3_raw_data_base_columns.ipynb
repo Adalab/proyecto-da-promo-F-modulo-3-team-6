{
 "cells": [
  {
   "cell_type": "markdown",
   "metadata": {},
   "source": [
    "# SESION 4 DICIEMBRE"
   ]
  },
  {
   "cell_type": "markdown",
   "metadata": {},
   "source": [
    "# Modificamos columnas que eran object a float "
   ]
  },
  {
   "cell_type": "code",
   "execution_count": 3,
   "metadata": {},
   "outputs": [],
   "source": [
    "import pandas as pd\n",
    "import numpy as np\n",
    "# -----------------------------------------------------------------------\n",
    "from sklearn.impute import SimpleImputer\n",
    "from sklearn.experimental import enable_iterative_imputer\n",
    "from sklearn.impute import IterativeImputer\n",
    "from sklearn.impute import KNNImputer\n",
    "\n",
    "# Librerías de visualización\n",
    "# -----------------------------------------------------------------------\n",
    "import seaborn as sns\n",
    "import matplotlib.pyplot as plt"
   ]
  },
  {
   "cell_type": "code",
   "execution_count": 4,
   "metadata": {},
   "outputs": [],
   "source": [
    "pd.set_option('display.max_columns', None)\n",
    "pd.set_option('display.max_rows', None)"
   ]
  },
  {
   "cell_type": "code",
   "execution_count": 28,
   "metadata": {},
   "outputs": [],
   "source": [
    "df_rawdata = pd.read_csv(\"../Data/raw_data_20231201.csv\", index_col=0)"
   ]
  },
  {
   "cell_type": "code",
   "execution_count": 29,
   "metadata": {},
   "outputs": [],
   "source": [
    "def cambiar_comas(cadena):\n",
    "    try:\n",
    "        return float(cadena.replace(\",\", \".\"))\n",
    "    except:\n",
    "        return np.nan\n",
    "    \n",
    "df_rawdata[\"Monthlyincome\"] = df_rawdata[\"Monthlyincome\"].apply(cambiar_comas)\n",
    "df_rawdata[\"Performancerating\"] = df_rawdata[\"Performancerating\"].apply(cambiar_comas)\n",
    "df_rawdata[\"Totalworkingyears\"] = df_rawdata[\"Totalworkingyears\"].apply(cambiar_comas)"
   ]
  },
  {
   "cell_type": "code",
   "execution_count": 30,
   "metadata": {},
   "outputs": [],
   "source": [
    "df_rawdata[\"Employeenumber\"]= df_rawdata[\"Employeenumber\"].apply(cambiar_comas)"
   ]
  },
  {
   "cell_type": "code",
   "execution_count": 31,
   "metadata": {},
   "outputs": [
    {
     "data": {
      "text/plain": [
       "431"
      ]
     },
     "execution_count": 31,
     "metadata": {},
     "output_type": "execute_result"
    }
   ],
   "source": [
    "df_rawdata[\"Employeenumber\"].isnull().sum()"
   ]
  },
  {
   "cell_type": "markdown",
   "metadata": {},
   "source": [
    "# Gestión de nulos"
   ]
  },
  {
   "cell_type": "markdown",
   "metadata": {},
   "source": [
    "Cambiamos los nulos de Employeenumber con un \"auto-incremental\""
   ]
  },
  {
   "cell_type": "code",
   "execution_count": 32,
   "metadata": {},
   "outputs": [
    {
     "name": "stdout",
     "output_type": "stream",
     "text": [
      "1604     927\n",
      "1605     941\n",
      "1606     956\n",
      "1607    2497\n",
      "1608     966\n",
      "1609     967\n",
      "1610     972\n",
      "1611    2498\n",
      "1612     990\n",
      "1613    2499\n",
      "Name: Employeenumber, dtype: int32\n"
     ]
    }
   ],
   "source": [
    "# Encuentra el último ID existente\n",
    "ultimo_id = df_rawdata['Employeenumber'].max()\n",
    "# Define una variable para el siguiente ID después del último\n",
    "siguiente_id = ultimo_id + 1\n",
    "# Itera sobre los índices del DataFrame\n",
    "for indice in df_rawdata.index:\n",
    "    if pd.isnull(df_rawdata.at[indice, 'Employeenumber']):  # Verifica si el valor es nulo\n",
    "        df_rawdata.at[indice, 'Employeenumber'] = siguiente_id  # Asigna el siguiente ID\n",
    "        siguiente_id += 1  # Incrementa el siguiente ID\n",
    "df_rawdata[\"Employeenumber\"] = df_rawdata[\"Employeenumber\"].astype(int)\n",
    "# Muestra el DataFrame actualizado\n",
    "print(df_rawdata[\"Employeenumber\"].tail(10))"
   ]
  },
  {
   "cell_type": "code",
   "execution_count": 33,
   "metadata": {},
   "outputs": [
    {
     "data": {
      "text/plain": [
       "dtype('int32')"
      ]
     },
     "execution_count": 33,
     "metadata": {},
     "output_type": "execute_result"
    }
   ],
   "source": [
    "# Muestra el DataFrame actualizado\n",
    "df_rawdata[\"Employeenumber\"].dtype"
   ]
  },
  {
   "cell_type": "code",
   "execution_count": 34,
   "metadata": {},
   "outputs": [
    {
     "data": {
      "text/plain": [
       "Index(['Businesstravel', 'Department', 'Educationfield', 'Maritalstatus',\n",
       "       'Overtime'],\n",
       "      dtype='object')"
      ]
     },
     "execution_count": 34,
     "metadata": {},
     "output_type": "execute_result"
    }
   ],
   "source": [
    "nulls_cat = df_rawdata[df_rawdata.columns[df_rawdata.isnull().any()]].select_dtypes(include = \"O\").columns\n",
    "nulls_cat"
   ]
  },
  {
   "cell_type": "code",
   "execution_count": 35,
   "metadata": {},
   "outputs": [
    {
     "data": {
      "text/plain": [
       "Businesstravel    47.880795\n",
       "Department        81.258278\n",
       "Educationfield    46.490066\n",
       "Maritalstatus     40.264901\n",
       "Overtime          41.721854\n",
       "dtype: float64"
      ]
     },
     "execution_count": 35,
     "metadata": {},
     "output_type": "execute_result"
    }
   ],
   "source": [
    "(df_rawdata[['Businesstravel', 'Department', 'Educationfield', 'Maritalstatus','Overtime']].isnull().sum() / df_rawdata.shape[0]) * 100"
   ]
  },
  {
   "cell_type": "code",
   "execution_count": 36,
   "metadata": {},
   "outputs": [
    {
     "name": "stdout",
     "output_type": "stream",
     "text": [
      "La distribución de las categorías para la columna BUSINESSTRAVEL\n"
     ]
    },
    {
     "data": {
      "text/plain": [
       "Businesstravel\n",
       "travel_rarely        0.364901\n",
       "travel_frequently    0.101325\n",
       "non-travel           0.054967\n",
       "Name: count, dtype: float64"
      ]
     },
     "metadata": {},
     "output_type": "display_data"
    },
    {
     "name": "stdout",
     "output_type": "stream",
     "text": [
      "........................\n",
      "La distribución de las categorías para la columna DEPARTMENT\n"
     ]
    },
    {
     "data": {
      "text/plain": [
       "Department\n",
       " Research & Development     0.122517\n",
       " Sales                      0.055629\n",
       " Human Resources            0.009272\n",
       "Name: count, dtype: float64"
      ]
     },
     "metadata": {},
     "output_type": "display_data"
    },
    {
     "name": "stdout",
     "output_type": "stream",
     "text": [
      "........................\n",
      "La distribución de las categorías para la columna EDUCATIONFIELD\n"
     ]
    },
    {
     "data": {
      "text/plain": [
       "Educationfield\n",
       "Life Sciences       0.215894\n",
       "Medical             0.169536\n",
       "Marketing           0.064238\n",
       "Technical Degree    0.042384\n",
       "Other               0.035762\n",
       "Human Resources     0.007285\n",
       "Name: count, dtype: float64"
      ]
     },
     "metadata": {},
     "output_type": "display_data"
    },
    {
     "name": "stdout",
     "output_type": "stream",
     "text": [
      "........................\n",
      "La distribución de las categorías para la columna MARITALSTATUS\n"
     ]
    },
    {
     "data": {
      "text/plain": [
       "Maritalstatus\n",
       "Married     0.270861\n",
       "Single      0.202649\n",
       "Divorced    0.123841\n",
       "Name: count, dtype: float64"
      ]
     },
     "metadata": {},
     "output_type": "display_data"
    },
    {
     "name": "stdout",
     "output_type": "stream",
     "text": [
      "........................\n",
      "La distribución de las categorías para la columna OVERTIME\n"
     ]
    },
    {
     "data": {
      "text/plain": [
       "Overtime\n",
       "No     0.422517\n",
       "Yes    0.160265\n",
       "Name: count, dtype: float64"
      ]
     },
     "metadata": {},
     "output_type": "display_data"
    },
    {
     "name": "stdout",
     "output_type": "stream",
     "text": [
      "........................\n"
     ]
    }
   ],
   "source": [
    "# sacamos el 'value_counts()' de cada una de las columnas categóricas que tienen nulos para saber como es la distribución de sus categorías\n",
    "for col in nulls_cat:\n",
    "    print(f\"La distribución de las categorías para la columna {col.upper()}\")\n",
    "    display(df_rawdata[col].value_counts() / df_rawdata.shape[0])\n",
    "    print(\"........................\")"
   ]
  },
  {
   "cell_type": "code",
   "execution_count": 37,
   "metadata": {},
   "outputs": [],
   "source": [
    "nulls_cat = ['Businesstravel', 'Educationfield', 'Maritalstatus', 'Overtime']"
   ]
  },
  {
   "cell_type": "markdown",
   "metadata": {},
   "source": [
    "Todos desconocidos!"
   ]
  },
  {
   "cell_type": "code",
   "execution_count": 38,
   "metadata": {},
   "outputs": [],
   "source": [
    "for columna in nulls_cat:\n",
    "    # reemplazamos los nulos por el valor Unknown para cada una de las columnas de la lista\n",
    "    df_rawdata[columna] = df_rawdata[columna].fillna(\"Unknown\")"
   ]
  },
  {
   "cell_type": "code",
   "execution_count": 39,
   "metadata": {},
   "outputs": [
    {
     "data": {
      "text/plain": [
       "array(['No', 'Unknown', 'Yes'], dtype=object)"
      ]
     },
     "execution_count": 39,
     "metadata": {},
     "output_type": "execute_result"
    }
   ],
   "source": [
    "df_rawdata[\"Overtime\"].unique()"
   ]
  },
  {
   "cell_type": "markdown",
   "metadata": {},
   "source": [
    "# Columna Department: vinculada con Jobrole"
   ]
  },
  {
   "cell_type": "code",
   "execution_count": 40,
   "metadata": {},
   "outputs": [],
   "source": [
    "# primero vemos cómo está la columna Jobrole\n",
    "#df_rawdata[\"Jobrole\"].head()"
   ]
  },
  {
   "cell_type": "code",
   "execution_count": 41,
   "metadata": {},
   "outputs": [],
   "source": [
    "# # capitalize valores de Jobrole (primera letra de cada palabra)\n",
    "# df_rawdata['Jobrole'] = df_rawdata['Jobrole'].apply(lambda x: ' '.join(word.capitalize() for word in x.lower().split()))\n",
    "# df_rawdata[\"Jobrole\"].head()"
   ]
  },
  {
   "cell_type": "code",
   "execution_count": 42,
   "metadata": {},
   "outputs": [
    {
     "data": {
      "text/html": [
       "<div>\n",
       "<style scoped>\n",
       "    .dataframe tbody tr th:only-of-type {\n",
       "        vertical-align: middle;\n",
       "    }\n",
       "\n",
       "    .dataframe tbody tr th {\n",
       "        vertical-align: top;\n",
       "    }\n",
       "\n",
       "    .dataframe thead th {\n",
       "        text-align: right;\n",
       "    }\n",
       "</style>\n",
       "<table border=\"1\" class=\"dataframe\">\n",
       "  <thead>\n",
       "    <tr style=\"text-align: right;\">\n",
       "      <th></th>\n",
       "      <th>Jobrole</th>\n",
       "      <th>Department</th>\n",
       "    </tr>\n",
       "  </thead>\n",
       "  <tbody>\n",
       "    <tr>\n",
       "      <th>0</th>\n",
       "      <td>Research Director</td>\n",
       "      <td>NaN</td>\n",
       "    </tr>\n",
       "    <tr>\n",
       "      <th>1</th>\n",
       "      <td>Manager</td>\n",
       "      <td>NaN</td>\n",
       "    </tr>\n",
       "    <tr>\n",
       "      <th>2</th>\n",
       "      <td>Manager</td>\n",
       "      <td>Research &amp; Development</td>\n",
       "    </tr>\n",
       "    <tr>\n",
       "      <th>3</th>\n",
       "      <td>Research Director</td>\n",
       "      <td>NaN</td>\n",
       "    </tr>\n",
       "    <tr>\n",
       "      <th>4</th>\n",
       "      <td>Sales Executive</td>\n",
       "      <td>NaN</td>\n",
       "    </tr>\n",
       "  </tbody>\n",
       "</table>\n",
       "</div>"
      ],
      "text/plain": [
       "               Jobrole                Department\n",
       "0   Research Director                        NaN\n",
       "1             Manager                        NaN\n",
       "2             Manager    Research & Development \n",
       "3   Research Director                        NaN\n",
       "4     Sales Executive                        NaN"
      ]
     },
     "execution_count": 42,
     "metadata": {},
     "output_type": "execute_result"
    }
   ],
   "source": [
    "# hacemos función para asignar los valores nulos en Department según la columna Jobrole\n",
    "def fill_department(df, jobrole, department):\n",
    "    df.loc[df['Jobrole'] == jobrole, 'Department'] = df.loc[df['Jobrole'] == jobrole, 'Department'].fillna(department)\n",
    "\n",
    "# Uso de la función fill_department para reemplazar los valores faltantes en 'Department'\n",
    "fill_department(df_rawdata, 'Research Director', 'Research & Development')\n",
    "fill_department(df_rawdata, 'Healthcare Representative', 'Research & Development')\n",
    "fill_department(df_rawdata, 'Laboratory Technician', 'Research & Development')\n",
    "fill_department(df_rawdata, 'Manufacturing Director', 'Research & Development')\n",
    "fill_department(df_rawdata, 'Research Scientist', 'Research & Development')\n",
    "fill_department(df_rawdata, 'Sales Executive', 'Sales')\n",
    "fill_department(df_rawdata, 'Sales Representative', 'Sales')\n",
    "fill_department(df_rawdata, 'Human Resources', 'Human Resources')\n",
    "fill_department(df_rawdata, 'Manager', 'Unknown')\n",
    "\n",
    "# Mostrar el DataFrame actualizado\n",
    "df_rawdata[[\"Jobrole\", \"Department\"]].head(5)"
   ]
  },
  {
   "cell_type": "code",
   "execution_count": 43,
   "metadata": {},
   "outputs": [
    {
     "name": "stdout",
     "output_type": "stream",
     "text": [
      "Estadísticas descriptivas para 'Jobrole':\n",
      " count                  1510\n",
      "unique                    9\n",
      "top        Sales Executive \n",
      "freq                    336\n",
      "Name: Jobrole, dtype: object\n",
      "\n",
      "Estadísticas descriptivas para 'Department':\n",
      " count                          283\n",
      "unique                           3\n",
      "top        Research & Development \n",
      "freq                           185\n",
      "Name: Department, dtype: object\n",
      "\n",
      "Conteo de valores únicos para 'Jobrole':\n",
      " Jobrole\n",
      " Sales Executive               336\n",
      " Research Scientist            300\n",
      " Laboratory Technician         264\n",
      " Manufacturing Director        148\n",
      " Healthcare Representative     137\n",
      " Manager                       105\n",
      " Sales Representative           84\n",
      " Research Director              83\n",
      " Human Resources                53\n",
      "Name: count, dtype: int64\n",
      "\n",
      "Conteo de valores únicos para 'Department':\n",
      " Department\n",
      " Research & Development     185\n",
      " Sales                       84\n",
      " Human Resources             14\n",
      "Name: count, dtype: int64\n"
     ]
    }
   ],
   "source": [
    "# Mostrar estadísticas descriptivas y conteo de valores únicos\n",
    "print(\"Estadísticas descriptivas para 'Jobrole':\\n\", df_rawdata['Jobrole'].describe())\n",
    "print(\"\\nEstadísticas descriptivas para 'Department':\\n\", df_rawdata['Department'].describe())\n",
    "\n",
    "print(\"\\nConteo de valores únicos para 'Jobrole':\\n\", df_rawdata['Jobrole'].value_counts())\n",
    "print(\"\\nConteo de valores únicos para 'Department':\\n\", df_rawdata['Department'].value_counts())"
   ]
  },
  {
   "cell_type": "markdown",
   "metadata": {},
   "source": [
    "# Todas las columnas categóricas listas "
   ]
  },
  {
   "cell_type": "code",
   "execution_count": 44,
   "metadata": {},
   "outputs": [],
   "source": [
    "# Como hay valores negativos en la columna Distancefromhome los cambiamos a nulos.\n",
    "def negative_to_null(data):\n",
    "    if data < 0:\n",
    "        return np.nan\n",
    "    else:\n",
    "        return data\n",
    "    \n",
    "df_rawdata[\"Distancefromhome\"] = df_rawdata[\"Distancefromhome\"].apply(negative_to_null)"
   ]
  },
  {
   "cell_type": "code",
   "execution_count": 45,
   "metadata": {},
   "outputs": [
    {
     "data": {
      "text/plain": [
       "1609    3.0\n",
       "1610    4.0\n",
       "1611    NaN\n",
       "1612    8.0\n",
       "1613    7.0\n",
       "Name: Distancefromhome, dtype: float64"
      ]
     },
     "execution_count": 45,
     "metadata": {},
     "output_type": "execute_result"
    }
   ],
   "source": [
    "df_rawdata[\"Distancefromhome\"].tail(5)"
   ]
  },
  {
   "cell_type": "markdown",
   "metadata": {},
   "source": [
    "## Gestión nulos columnas numéricas"
   ]
  },
  {
   "cell_type": "code",
   "execution_count": 46,
   "metadata": {},
   "outputs": [
    {
     "data": {
      "text/plain": [
       "Index(['Dailyrate', 'Department', 'Distancefromhome', 'Monthlyincome',\n",
       "       'Performancerating', 'Totalworkingyears', 'Worklifebalance'],\n",
       "      dtype='object')"
      ]
     },
     "execution_count": 46,
     "metadata": {},
     "output_type": "execute_result"
    }
   ],
   "source": [
    "nulls_num = df_rawdata[df_rawdata.columns[df_rawdata.isna().any()]].columns\n",
    "nulls_num"
   ]
  },
  {
   "cell_type": "code",
   "execution_count": 47,
   "metadata": {},
   "outputs": [],
   "source": [
    "# Función para quitar \"Not Available\" y poner nulos en su lugar\n",
    "def not_available_to_null(data):\n",
    "    if data == 'Not Available':\n",
    "        return np.nan\n",
    "    else:\n",
    "        return float(data)\n",
    "df_rawdata[\"Hourlyrate\"] = df_rawdata[\"Hourlyrate\"].apply(not_available_to_null)"
   ]
  },
  {
   "cell_type": "code",
   "execution_count": 48,
   "metadata": {},
   "outputs": [],
   "source": [
    "df_rawdata_copy = df_rawdata.copy()"
   ]
  },
  {
   "cell_type": "code",
   "execution_count": 49,
   "metadata": {},
   "outputs": [
    {
     "name": "stdout",
     "output_type": "stream",
     "text": [
      "Tenemos nulos: \n",
      "Dailyrate            116\n",
      "Distancefromhome     178\n",
      "Monthlyincome        799\n",
      "Performancerating    182\n",
      "Totalworkingyears    494\n",
      "Worklifebalance      100\n",
      "Hourlyrate            80\n",
      "dtype: int64 nulos\n"
     ]
    }
   ],
   "source": [
    "print(f\"Tenemos nulos: \\n{df_rawdata_copy[['Dailyrate', 'Distancefromhome', 'Monthlyincome', 'Performancerating','Totalworkingyears', 'Worklifebalance', 'Hourlyrate']].isnull().sum()} nulos\")\t\t\t"
   ]
  },
  {
   "cell_type": "markdown",
   "metadata": {},
   "source": [
    "# IterativeImputer"
   ]
  },
  {
   "cell_type": "code",
   "execution_count": 50,
   "metadata": {},
   "outputs": [
    {
     "data": {
      "text/plain": [
       "array([[6.84000000e+02, 6.00000000e+00, 1.95370000e+04, ...,\n",
       "        3.26175277e+01, 3.00000000e+00, 5.10000000e+01],\n",
       "       [6.99000000e+02, 1.00000000e+00, 1.99990000e+04, ...,\n",
       "        3.40000000e+01, 3.00000000e+00, 6.50000000e+01],\n",
       "       [5.32000000e+02, 4.00000000e+00, 1.92320000e+04, ...,\n",
       "        2.20000000e+01, 2.90522101e+00, 5.80000000e+01],\n",
       "       ...,\n",
       "       [9.03000000e+02, 9.05859584e+00, 4.96921235e+03, ...,\n",
       "        9.00000000e+00, 3.00000000e+00, 4.10000000e+01],\n",
       "       [1.22900000e+03, 8.00000000e+00, 6.38325083e+03, ...,\n",
       "        1.20000000e+01, 3.00000000e+00, 8.40000000e+01],\n",
       "       [5.66000000e+02, 7.00000000e+00, 1.08450000e+04, ...,\n",
       "        1.84083797e+01, 3.00000000e+00, 7.50000000e+01]])"
      ]
     },
     "execution_count": 50,
     "metadata": {},
     "output_type": "execute_result"
    }
   ],
   "source": [
    "# instanciamos las clases\t\t\t\t\t\t\t\t\t\t\n",
    "imputer_iterative = IterativeImputer(max_iter = 20, random_state = 42)\t\t\t\n",
    "# ajustamos y tranformamos los datos\t\t\t\t\t\t\t\t\t\t\n",
    "imputer_iterative_imputado = imputer_iterative.fit_transform(df_rawdata_copy[['Dailyrate', 'Distancefromhome', 'Monthlyincome', 'Performancerating','Totalworkingyears', 'Worklifebalance', 'Hourlyrate']])\n",
    "# comprobamos que es lo que nos devuelve, que en este caso es un array también\t\t\t\t\t\n",
    "imputer_iterative_imputado\t\t\t\t\t\t\t\t\t\t\t\t\t\t\t\t\t\t\t\t\t\t"
   ]
  },
  {
   "cell_type": "code",
   "execution_count": 51,
   "metadata": {},
   "outputs": [
    {
     "name": "stdout",
     "output_type": "stream",
     "text": [
      "Después del 'Iterative' tenemos: \n",
      "Dailyrate_ITE            0\n",
      "Distancefromhome_ITE     0\n",
      "Monthlyincome_ITE        0\n",
      "Performancerating_ITE    0\n",
      "Totalworkingyears_ITE    0\n",
      "Worklifebalance_ITE      0\n",
      "Hourlyrate_ITE           0\n",
      "dtype: int64 nulos\n"
     ]
    }
   ],
   "source": [
    "df_rawdata_copy[['Dailyrate_ITE', 'Distancefromhome_ITE', 'Monthlyincome_ITE', 'Performancerating_ITE','Totalworkingyears_ITE', 'Worklifebalance_ITE', 'Hourlyrate_ITE']] = imputer_iterative_imputado\t\t\t\t\t\t\t\t\t\t\n",
    "\t\t\t\t\t\t\t\t\t\t\n",
    "# comprobamos los nulos\t\t\t\t\t\t\t\t\t\t\n",
    "print(f\"Después del 'Iterative' tenemos: \\n{df_rawdata_copy[['Dailyrate_ITE', 'Distancefromhome_ITE', 'Monthlyincome_ITE', 'Performancerating_ITE', 'Totalworkingyears_ITE', 'Worklifebalance_ITE', 'Hourlyrate_ITE']].isnull().sum()} nulos\")\t\t\t\t\t\t\t\t\t\t\n",
    "\t\t\t\t\t\t\t\t\t\t"
   ]
  },
  {
   "cell_type": "markdown",
   "metadata": {},
   "source": [
    "# KNN Imputer"
   ]
  },
  {
   "cell_type": "code",
   "execution_count": 52,
   "metadata": {},
   "outputs": [
    {
     "data": {
      "text/plain": [
       "array([[6.8400e+02, 6.0000e+00, 1.9537e+04, ..., 1.3600e+01, 3.0000e+00,\n",
       "        5.1000e+01],\n",
       "       [6.9900e+02, 1.0000e+00, 1.9999e+04, ..., 3.4000e+01, 3.0000e+00,\n",
       "        6.5000e+01],\n",
       "       [5.3200e+02, 4.0000e+00, 1.9232e+04, ..., 2.2000e+01, 3.0000e+00,\n",
       "        5.8000e+01],\n",
       "       ...,\n",
       "       [9.0300e+02, 1.0600e+01, 7.1448e+03, ..., 9.0000e+00, 3.0000e+00,\n",
       "        4.1000e+01],\n",
       "       [1.2290e+03, 8.0000e+00, 5.8398e+03, ..., 1.2000e+01, 3.0000e+00,\n",
       "        8.4000e+01],\n",
       "       [5.6600e+02, 7.0000e+00, 1.0845e+04, ..., 1.5000e+01, 3.0000e+00,\n",
       "        7.5000e+01]])"
      ]
     },
     "execution_count": 52,
     "metadata": {},
     "output_type": "execute_result"
    }
   ],
   "source": [
    "# instanciamos la clase del KNNImputer\n",
    "imputer_knn = KNNImputer(n_neighbors = 5)\n",
    "# ajustamos y transformamos los datos\n",
    "imputer_knn_imputado = imputer_knn.fit_transform(df_rawdata_copy[['Dailyrate', 'Distancefromhome', 'Monthlyincome', 'Performancerating','Totalworkingyears', 'Worklifebalance', 'Hourlyrate']])\n",
    "# comprobamos que es lo que nos devuelve, que sigue siendo un array\n",
    "imputer_knn_imputado"
   ]
  },
  {
   "cell_type": "code",
   "execution_count": 53,
   "metadata": {},
   "outputs": [
    {
     "name": "stdout",
     "output_type": "stream",
     "text": [
      "Después del 'KNN' tenemos: \n",
      "Dailyrate_KNN            0\n",
      "Distancefromhome_KNN     0\n",
      "Monthlyincome_KNN        0\n",
      "Performancerating_KNN    0\n",
      "Totalworkingyears_KNN    0\n",
      "Worklifebalance_KNN      0\n",
      "Hourlyrate_KNN           0\n",
      "dtype: int64 nulos\n"
     ]
    }
   ],
   "source": [
    "# por último nos queda añadir ese array al DataFrame como hemos hecho hasta ahora\n",
    "df_rawdata_copy[['Dailyrate_KNN', 'Distancefromhome_KNN', 'Monthlyincome_KNN', 'Performancerating_KNN','Totalworkingyears_KNN', 'Worklifebalance_KNN', 'Hourlyrate_KNN']] = imputer_knn_imputado\n",
    "\n",
    "# comprobamos los nulos\n",
    "print(f\"Después del 'KNN' tenemos: \\n{df_rawdata_copy[['Dailyrate_KNN', 'Distancefromhome_KNN', 'Monthlyincome_KNN', 'Performancerating_KNN','Totalworkingyears_KNN', 'Worklifebalance_KNN', 'Hourlyrate_KNN']].isnull().sum()} nulos\")\n"
   ]
  },
  {
   "cell_type": "code",
   "execution_count": 54,
   "metadata": {},
   "outputs": [
    {
     "data": {
      "text/html": [
       "<div>\n",
       "<style scoped>\n",
       "    .dataframe tbody tr th:only-of-type {\n",
       "        vertical-align: middle;\n",
       "    }\n",
       "\n",
       "    .dataframe tbody tr th {\n",
       "        vertical-align: top;\n",
       "    }\n",
       "\n",
       "    .dataframe thead th {\n",
       "        text-align: right;\n",
       "    }\n",
       "</style>\n",
       "<table border=\"1\" class=\"dataframe\">\n",
       "  <thead>\n",
       "    <tr style=\"text-align: right;\">\n",
       "      <th></th>\n",
       "      <th>Dailyrate</th>\n",
       "      <th>Dailyrate_ITE</th>\n",
       "      <th>Dailyrate_KNN</th>\n",
       "    </tr>\n",
       "  </thead>\n",
       "  <tbody>\n",
       "    <tr>\n",
       "      <th>count</th>\n",
       "      <td>1394.000000</td>\n",
       "      <td>1510.000000</td>\n",
       "      <td>1510.000000</td>\n",
       "    </tr>\n",
       "    <tr>\n",
       "      <th>mean</th>\n",
       "      <td>807.050215</td>\n",
       "      <td>807.859002</td>\n",
       "      <td>811.300662</td>\n",
       "    </tr>\n",
       "    <tr>\n",
       "      <th>std</th>\n",
       "      <td>401.842182</td>\n",
       "      <td>386.577732</td>\n",
       "      <td>388.916129</td>\n",
       "    </tr>\n",
       "    <tr>\n",
       "      <th>min</th>\n",
       "      <td>103.000000</td>\n",
       "      <td>103.000000</td>\n",
       "      <td>103.000000</td>\n",
       "    </tr>\n",
       "    <tr>\n",
       "      <th>25%</th>\n",
       "      <td>472.500000</td>\n",
       "      <td>504.250000</td>\n",
       "      <td>501.750000</td>\n",
       "    </tr>\n",
       "    <tr>\n",
       "      <th>50%</th>\n",
       "      <td>805.500000</td>\n",
       "      <td>807.451017</td>\n",
       "      <td>814.000000</td>\n",
       "    </tr>\n",
       "    <tr>\n",
       "      <th>75%</th>\n",
       "      <td>1157.750000</td>\n",
       "      <td>1135.500000</td>\n",
       "      <td>1137.750000</td>\n",
       "    </tr>\n",
       "    <tr>\n",
       "      <th>max</th>\n",
       "      <td>1499.000000</td>\n",
       "      <td>1499.000000</td>\n",
       "      <td>1499.000000</td>\n",
       "    </tr>\n",
       "  </tbody>\n",
       "</table>\n",
       "</div>"
      ],
      "text/plain": [
       "         Dailyrate  Dailyrate_ITE  Dailyrate_KNN\n",
       "count  1394.000000    1510.000000    1510.000000\n",
       "mean    807.050215     807.859002     811.300662\n",
       "std     401.842182     386.577732     388.916129\n",
       "min     103.000000     103.000000     103.000000\n",
       "25%     472.500000     504.250000     501.750000\n",
       "50%     805.500000     807.451017     814.000000\n",
       "75%    1157.750000    1135.500000    1137.750000\n",
       "max    1499.000000    1499.000000    1499.000000"
      ]
     },
     "execution_count": 54,
     "metadata": {},
     "output_type": "execute_result"
    }
   ],
   "source": [
    "df_rawdata_copy.describe()[['Dailyrate', 'Dailyrate_ITE', 'Dailyrate_KNN']]"
   ]
  },
  {
   "cell_type": "code",
   "execution_count": 55,
   "metadata": {},
   "outputs": [
    {
     "data": {
      "text/html": [
       "<div>\n",
       "<style scoped>\n",
       "    .dataframe tbody tr th:only-of-type {\n",
       "        vertical-align: middle;\n",
       "    }\n",
       "\n",
       "    .dataframe tbody tr th {\n",
       "        vertical-align: top;\n",
       "    }\n",
       "\n",
       "    .dataframe thead th {\n",
       "        text-align: right;\n",
       "    }\n",
       "</style>\n",
       "<table border=\"1\" class=\"dataframe\">\n",
       "  <thead>\n",
       "    <tr style=\"text-align: right;\">\n",
       "      <th></th>\n",
       "      <th>Distancefromhome</th>\n",
       "      <th>Distancefromhome_ITE</th>\n",
       "      <th>Distancefromhome_KNN</th>\n",
       "    </tr>\n",
       "  </thead>\n",
       "  <tbody>\n",
       "    <tr>\n",
       "      <th>count</th>\n",
       "      <td>1332.000000</td>\n",
       "      <td>1510.000000</td>\n",
       "      <td>1510.000000</td>\n",
       "    </tr>\n",
       "    <tr>\n",
       "      <th>mean</th>\n",
       "      <td>8.960961</td>\n",
       "      <td>8.964555</td>\n",
       "      <td>9.123974</td>\n",
       "    </tr>\n",
       "    <tr>\n",
       "      <th>std</th>\n",
       "      <td>7.954886</td>\n",
       "      <td>7.471860</td>\n",
       "      <td>7.571923</td>\n",
       "    </tr>\n",
       "    <tr>\n",
       "      <th>min</th>\n",
       "      <td>1.000000</td>\n",
       "      <td>1.000000</td>\n",
       "      <td>1.000000</td>\n",
       "    </tr>\n",
       "    <tr>\n",
       "      <th>25%</th>\n",
       "      <td>2.000000</td>\n",
       "      <td>2.000000</td>\n",
       "      <td>2.000000</td>\n",
       "    </tr>\n",
       "    <tr>\n",
       "      <th>50%</th>\n",
       "      <td>7.000000</td>\n",
       "      <td>8.000000</td>\n",
       "      <td>7.700000</td>\n",
       "    </tr>\n",
       "    <tr>\n",
       "      <th>75%</th>\n",
       "      <td>13.000000</td>\n",
       "      <td>11.000000</td>\n",
       "      <td>13.000000</td>\n",
       "    </tr>\n",
       "    <tr>\n",
       "      <th>max</th>\n",
       "      <td>29.000000</td>\n",
       "      <td>29.000000</td>\n",
       "      <td>29.000000</td>\n",
       "    </tr>\n",
       "  </tbody>\n",
       "</table>\n",
       "</div>"
      ],
      "text/plain": [
       "       Distancefromhome  Distancefromhome_ITE  Distancefromhome_KNN\n",
       "count       1332.000000           1510.000000           1510.000000\n",
       "mean           8.960961              8.964555              9.123974\n",
       "std            7.954886              7.471860              7.571923\n",
       "min            1.000000              1.000000              1.000000\n",
       "25%            2.000000              2.000000              2.000000\n",
       "50%            7.000000              8.000000              7.700000\n",
       "75%           13.000000             11.000000             13.000000\n",
       "max           29.000000             29.000000             29.000000"
      ]
     },
     "execution_count": 55,
     "metadata": {},
     "output_type": "execute_result"
    }
   ],
   "source": [
    "df_rawdata_copy.describe()[[\"Distancefromhome\", \"Distancefromhome_ITE\", \"Distancefromhome_KNN\"]]"
   ]
  },
  {
   "cell_type": "code",
   "execution_count": 56,
   "metadata": {},
   "outputs": [
    {
     "data": {
      "text/html": [
       "<div>\n",
       "<style scoped>\n",
       "    .dataframe tbody tr th:only-of-type {\n",
       "        vertical-align: middle;\n",
       "    }\n",
       "\n",
       "    .dataframe tbody tr th {\n",
       "        vertical-align: top;\n",
       "    }\n",
       "\n",
       "    .dataframe thead th {\n",
       "        text-align: right;\n",
       "    }\n",
       "</style>\n",
       "<table border=\"1\" class=\"dataframe\">\n",
       "  <thead>\n",
       "    <tr style=\"text-align: right;\">\n",
       "      <th></th>\n",
       "      <th>Monthlyincome</th>\n",
       "      <th>Monthlyincome_ITE</th>\n",
       "      <th>Monthlyincome_KNN</th>\n",
       "    </tr>\n",
       "  </thead>\n",
       "  <tbody>\n",
       "    <tr>\n",
       "      <th>count</th>\n",
       "      <td>711.000000</td>\n",
       "      <td>1510.000000</td>\n",
       "      <td>1510.000000</td>\n",
       "    </tr>\n",
       "    <tr>\n",
       "      <th>mean</th>\n",
       "      <td>6527.918425</td>\n",
       "      <td>6379.350669</td>\n",
       "      <td>6210.313775</td>\n",
       "    </tr>\n",
       "    <tr>\n",
       "      <th>std</th>\n",
       "      <td>4810.541121</td>\n",
       "      <td>4045.555183</td>\n",
       "      <td>3600.306711</td>\n",
       "    </tr>\n",
       "    <tr>\n",
       "      <th>min</th>\n",
       "      <td>1009.000000</td>\n",
       "      <td>-440.442943</td>\n",
       "      <td>1009.000000</td>\n",
       "    </tr>\n",
       "    <tr>\n",
       "      <th>25%</th>\n",
       "      <td>2906.500000</td>\n",
       "      <td>3527.203958</td>\n",
       "      <td>3958.150000</td>\n",
       "    </tr>\n",
       "    <tr>\n",
       "      <th>50%</th>\n",
       "      <td>4850.000000</td>\n",
       "      <td>5477.298448</td>\n",
       "      <td>5417.000000</td>\n",
       "    </tr>\n",
       "    <tr>\n",
       "      <th>75%</th>\n",
       "      <td>8456.000000</td>\n",
       "      <td>7423.212705</td>\n",
       "      <td>7260.200000</td>\n",
       "    </tr>\n",
       "    <tr>\n",
       "      <th>max</th>\n",
       "      <td>19999.000000</td>\n",
       "      <td>21083.516020</td>\n",
       "      <td>19999.000000</td>\n",
       "    </tr>\n",
       "  </tbody>\n",
       "</table>\n",
       "</div>"
      ],
      "text/plain": [
       "       Monthlyincome  Monthlyincome_ITE  Monthlyincome_KNN\n",
       "count     711.000000        1510.000000        1510.000000\n",
       "mean     6527.918425        6379.350669        6210.313775\n",
       "std      4810.541121        4045.555183        3600.306711\n",
       "min      1009.000000        -440.442943        1009.000000\n",
       "25%      2906.500000        3527.203958        3958.150000\n",
       "50%      4850.000000        5477.298448        5417.000000\n",
       "75%      8456.000000        7423.212705        7260.200000\n",
       "max     19999.000000       21083.516020       19999.000000"
      ]
     },
     "execution_count": 56,
     "metadata": {},
     "output_type": "execute_result"
    }
   ],
   "source": [
    "df_rawdata_copy.describe()[[\"Monthlyincome\", \"Monthlyincome_ITE\", \"Monthlyincome_KNN\"]]"
   ]
  },
  {
   "cell_type": "code",
   "execution_count": 57,
   "metadata": {},
   "outputs": [
    {
     "data": {
      "text/html": [
       "<div>\n",
       "<style scoped>\n",
       "    .dataframe tbody tr th:only-of-type {\n",
       "        vertical-align: middle;\n",
       "    }\n",
       "\n",
       "    .dataframe tbody tr th {\n",
       "        vertical-align: top;\n",
       "    }\n",
       "\n",
       "    .dataframe thead th {\n",
       "        text-align: right;\n",
       "    }\n",
       "</style>\n",
       "<table border=\"1\" class=\"dataframe\">\n",
       "  <thead>\n",
       "    <tr style=\"text-align: right;\">\n",
       "      <th></th>\n",
       "      <th>Performancerating</th>\n",
       "      <th>Performancerating_ITE</th>\n",
       "      <th>Performancerating_KNN</th>\n",
       "    </tr>\n",
       "  </thead>\n",
       "  <tbody>\n",
       "    <tr>\n",
       "      <th>count</th>\n",
       "      <td>1328.000000</td>\n",
       "      <td>1510.000000</td>\n",
       "      <td>1510.000000</td>\n",
       "    </tr>\n",
       "    <tr>\n",
       "      <th>mean</th>\n",
       "      <td>3.155120</td>\n",
       "      <td>3.155151</td>\n",
       "      <td>3.155762</td>\n",
       "    </tr>\n",
       "    <tr>\n",
       "      <th>std</th>\n",
       "      <td>0.362156</td>\n",
       "      <td>0.339627</td>\n",
       "      <td>0.343147</td>\n",
       "    </tr>\n",
       "    <tr>\n",
       "      <th>min</th>\n",
       "      <td>3.000000</td>\n",
       "      <td>3.000000</td>\n",
       "      <td>3.000000</td>\n",
       "    </tr>\n",
       "    <tr>\n",
       "      <th>25%</th>\n",
       "      <td>3.000000</td>\n",
       "      <td>3.000000</td>\n",
       "      <td>3.000000</td>\n",
       "    </tr>\n",
       "    <tr>\n",
       "      <th>50%</th>\n",
       "      <td>3.000000</td>\n",
       "      <td>3.000000</td>\n",
       "      <td>3.000000</td>\n",
       "    </tr>\n",
       "    <tr>\n",
       "      <th>75%</th>\n",
       "      <td>3.000000</td>\n",
       "      <td>3.141685</td>\n",
       "      <td>3.000000</td>\n",
       "    </tr>\n",
       "    <tr>\n",
       "      <th>max</th>\n",
       "      <td>4.000000</td>\n",
       "      <td>4.000000</td>\n",
       "      <td>4.000000</td>\n",
       "    </tr>\n",
       "  </tbody>\n",
       "</table>\n",
       "</div>"
      ],
      "text/plain": [
       "       Performancerating  Performancerating_ITE  Performancerating_KNN\n",
       "count        1328.000000            1510.000000            1510.000000\n",
       "mean            3.155120               3.155151               3.155762\n",
       "std             0.362156               0.339627               0.343147\n",
       "min             3.000000               3.000000               3.000000\n",
       "25%             3.000000               3.000000               3.000000\n",
       "50%             3.000000               3.000000               3.000000\n",
       "75%             3.000000               3.141685               3.000000\n",
       "max             4.000000               4.000000               4.000000"
      ]
     },
     "execution_count": 57,
     "metadata": {},
     "output_type": "execute_result"
    }
   ],
   "source": [
    "df_rawdata_copy.describe()[[\"Performancerating\", \"Performancerating_ITE\", \"Performancerating_KNN\"]]"
   ]
  },
  {
   "cell_type": "code",
   "execution_count": 58,
   "metadata": {},
   "outputs": [
    {
     "data": {
      "text/html": [
       "<div>\n",
       "<style scoped>\n",
       "    .dataframe tbody tr th:only-of-type {\n",
       "        vertical-align: middle;\n",
       "    }\n",
       "\n",
       "    .dataframe tbody tr th {\n",
       "        vertical-align: top;\n",
       "    }\n",
       "\n",
       "    .dataframe thead th {\n",
       "        text-align: right;\n",
       "    }\n",
       "</style>\n",
       "<table border=\"1\" class=\"dataframe\">\n",
       "  <thead>\n",
       "    <tr style=\"text-align: right;\">\n",
       "      <th></th>\n",
       "      <th>Totalworkingyears</th>\n",
       "      <th>Totalworkingyears_ITE</th>\n",
       "      <th>Totalworkingyears_KNN</th>\n",
       "    </tr>\n",
       "  </thead>\n",
       "  <tbody>\n",
       "    <tr>\n",
       "      <th>count</th>\n",
       "      <td>1016.000000</td>\n",
       "      <td>1510.000000</td>\n",
       "      <td>1510.000000</td>\n",
       "    </tr>\n",
       "    <tr>\n",
       "      <th>mean</th>\n",
       "      <td>11.314961</td>\n",
       "      <td>11.551796</td>\n",
       "      <td>12.370861</td>\n",
       "    </tr>\n",
       "    <tr>\n",
       "      <th>std</th>\n",
       "      <td>7.794100</td>\n",
       "      <td>7.223500</td>\n",
       "      <td>6.803500</td>\n",
       "    </tr>\n",
       "    <tr>\n",
       "      <th>min</th>\n",
       "      <td>0.000000</td>\n",
       "      <td>0.000000</td>\n",
       "      <td>0.000000</td>\n",
       "    </tr>\n",
       "    <tr>\n",
       "      <th>25%</th>\n",
       "      <td>6.000000</td>\n",
       "      <td>6.970660</td>\n",
       "      <td>8.000000</td>\n",
       "    </tr>\n",
       "    <tr>\n",
       "      <th>50%</th>\n",
       "      <td>10.000000</td>\n",
       "      <td>10.000000</td>\n",
       "      <td>12.000000</td>\n",
       "    </tr>\n",
       "    <tr>\n",
       "      <th>75%</th>\n",
       "      <td>15.000000</td>\n",
       "      <td>13.973624</td>\n",
       "      <td>16.000000</td>\n",
       "    </tr>\n",
       "    <tr>\n",
       "      <th>max</th>\n",
       "      <td>40.000000</td>\n",
       "      <td>40.000000</td>\n",
       "      <td>40.000000</td>\n",
       "    </tr>\n",
       "  </tbody>\n",
       "</table>\n",
       "</div>"
      ],
      "text/plain": [
       "       Totalworkingyears  Totalworkingyears_ITE  Totalworkingyears_KNN\n",
       "count        1016.000000            1510.000000            1510.000000\n",
       "mean           11.314961              11.551796              12.370861\n",
       "std             7.794100               7.223500               6.803500\n",
       "min             0.000000               0.000000               0.000000\n",
       "25%             6.000000               6.970660               8.000000\n",
       "50%            10.000000              10.000000              12.000000\n",
       "75%            15.000000              13.973624              16.000000\n",
       "max            40.000000              40.000000              40.000000"
      ]
     },
     "execution_count": 58,
     "metadata": {},
     "output_type": "execute_result"
    }
   ],
   "source": [
    "df_rawdata_copy.describe()[[\"Totalworkingyears\",\"Totalworkingyears_ITE\", \"Totalworkingyears_KNN\"]]"
   ]
  },
  {
   "cell_type": "code",
   "execution_count": 59,
   "metadata": {},
   "outputs": [
    {
     "data": {
      "text/html": [
       "<div>\n",
       "<style scoped>\n",
       "    .dataframe tbody tr th:only-of-type {\n",
       "        vertical-align: middle;\n",
       "    }\n",
       "\n",
       "    .dataframe tbody tr th {\n",
       "        vertical-align: top;\n",
       "    }\n",
       "\n",
       "    .dataframe thead th {\n",
       "        text-align: right;\n",
       "    }\n",
       "</style>\n",
       "<table border=\"1\" class=\"dataframe\">\n",
       "  <thead>\n",
       "    <tr style=\"text-align: right;\">\n",
       "      <th></th>\n",
       "      <th>Worklifebalance</th>\n",
       "      <th>Worklifebalance_ITE</th>\n",
       "      <th>Worklifebalance_KNN</th>\n",
       "    </tr>\n",
       "  </thead>\n",
       "  <tbody>\n",
       "    <tr>\n",
       "      <th>count</th>\n",
       "      <td>1410.000000</td>\n",
       "      <td>1510.000000</td>\n",
       "      <td>1510.000000</td>\n",
       "    </tr>\n",
       "    <tr>\n",
       "      <th>mean</th>\n",
       "      <td>2.756028</td>\n",
       "      <td>2.755562</td>\n",
       "      <td>2.733907</td>\n",
       "    </tr>\n",
       "    <tr>\n",
       "      <th>std</th>\n",
       "      <td>0.705888</td>\n",
       "      <td>0.682206</td>\n",
       "      <td>0.692784</td>\n",
       "    </tr>\n",
       "    <tr>\n",
       "      <th>min</th>\n",
       "      <td>1.000000</td>\n",
       "      <td>1.000000</td>\n",
       "      <td>1.000000</td>\n",
       "    </tr>\n",
       "    <tr>\n",
       "      <th>25%</th>\n",
       "      <td>2.000000</td>\n",
       "      <td>2.000000</td>\n",
       "      <td>2.000000</td>\n",
       "    </tr>\n",
       "    <tr>\n",
       "      <th>50%</th>\n",
       "      <td>3.000000</td>\n",
       "      <td>3.000000</td>\n",
       "      <td>3.000000</td>\n",
       "    </tr>\n",
       "    <tr>\n",
       "      <th>75%</th>\n",
       "      <td>3.000000</td>\n",
       "      <td>3.000000</td>\n",
       "      <td>3.000000</td>\n",
       "    </tr>\n",
       "    <tr>\n",
       "      <th>max</th>\n",
       "      <td>4.000000</td>\n",
       "      <td>4.000000</td>\n",
       "      <td>4.000000</td>\n",
       "    </tr>\n",
       "  </tbody>\n",
       "</table>\n",
       "</div>"
      ],
      "text/plain": [
       "       Worklifebalance  Worklifebalance_ITE  Worklifebalance_KNN\n",
       "count      1410.000000          1510.000000          1510.000000\n",
       "mean          2.756028             2.755562             2.733907\n",
       "std           0.705888             0.682206             0.692784\n",
       "min           1.000000             1.000000             1.000000\n",
       "25%           2.000000             2.000000             2.000000\n",
       "50%           3.000000             3.000000             3.000000\n",
       "75%           3.000000             3.000000             3.000000\n",
       "max           4.000000             4.000000             4.000000"
      ]
     },
     "execution_count": 59,
     "metadata": {},
     "output_type": "execute_result"
    }
   ],
   "source": [
    "df_rawdata_copy.describe()[[\"Worklifebalance\", \"Worklifebalance_ITE\", \"Worklifebalance_KNN\"]]"
   ]
  },
  {
   "cell_type": "code",
   "execution_count": 60,
   "metadata": {},
   "outputs": [
    {
     "data": {
      "text/html": [
       "<div>\n",
       "<style scoped>\n",
       "    .dataframe tbody tr th:only-of-type {\n",
       "        vertical-align: middle;\n",
       "    }\n",
       "\n",
       "    .dataframe tbody tr th {\n",
       "        vertical-align: top;\n",
       "    }\n",
       "\n",
       "    .dataframe thead th {\n",
       "        text-align: right;\n",
       "    }\n",
       "</style>\n",
       "<table border=\"1\" class=\"dataframe\">\n",
       "  <thead>\n",
       "    <tr style=\"text-align: right;\">\n",
       "      <th></th>\n",
       "      <th>Hourlyrate</th>\n",
       "      <th>Hourlyrate_ITE</th>\n",
       "      <th>Hourlyrate_KNN</th>\n",
       "    </tr>\n",
       "  </thead>\n",
       "  <tbody>\n",
       "    <tr>\n",
       "      <th>count</th>\n",
       "      <td>1430.000000</td>\n",
       "      <td>1510.000000</td>\n",
       "      <td>1510.000000</td>\n",
       "    </tr>\n",
       "    <tr>\n",
       "      <th>mean</th>\n",
       "      <td>66.025175</td>\n",
       "      <td>66.025926</td>\n",
       "      <td>65.930728</td>\n",
       "    </tr>\n",
       "    <tr>\n",
       "      <th>std</th>\n",
       "      <td>20.270996</td>\n",
       "      <td>19.727124</td>\n",
       "      <td>19.792448</td>\n",
       "    </tr>\n",
       "    <tr>\n",
       "      <th>min</th>\n",
       "      <td>30.000000</td>\n",
       "      <td>30.000000</td>\n",
       "      <td>30.000000</td>\n",
       "    </tr>\n",
       "    <tr>\n",
       "      <th>25%</th>\n",
       "      <td>48.000000</td>\n",
       "      <td>49.000000</td>\n",
       "      <td>49.000000</td>\n",
       "    </tr>\n",
       "    <tr>\n",
       "      <th>50%</th>\n",
       "      <td>66.000000</td>\n",
       "      <td>66.000000</td>\n",
       "      <td>66.000000</td>\n",
       "    </tr>\n",
       "    <tr>\n",
       "      <th>75%</th>\n",
       "      <td>84.000000</td>\n",
       "      <td>83.000000</td>\n",
       "      <td>83.000000</td>\n",
       "    </tr>\n",
       "    <tr>\n",
       "      <th>max</th>\n",
       "      <td>100.000000</td>\n",
       "      <td>100.000000</td>\n",
       "      <td>100.000000</td>\n",
       "    </tr>\n",
       "  </tbody>\n",
       "</table>\n",
       "</div>"
      ],
      "text/plain": [
       "        Hourlyrate  Hourlyrate_ITE  Hourlyrate_KNN\n",
       "count  1430.000000     1510.000000     1510.000000\n",
       "mean     66.025175       66.025926       65.930728\n",
       "std      20.270996       19.727124       19.792448\n",
       "min      30.000000       30.000000       30.000000\n",
       "25%      48.000000       49.000000       49.000000\n",
       "50%      66.000000       66.000000       66.000000\n",
       "75%      84.000000       83.000000       83.000000\n",
       "max     100.000000      100.000000      100.000000"
      ]
     },
     "execution_count": 60,
     "metadata": {},
     "output_type": "execute_result"
    }
   ],
   "source": [
    "df_rawdata_copy.describe()[[\"Hourlyrate\",\"Hourlyrate_ITE\",\"Hourlyrate_KNN\"]]"
   ]
  },
  {
   "cell_type": "markdown",
   "metadata": {},
   "source": [
    "Dailyrate_KNN, Distancefromhome_KNN, Monthlyincome_KNN, Performancerating_KNN, Totalworkingyears_KNN, Worklifebalance_KNN, Hourlyrate_KNN\n",
    "\n",
    "# Hemos seleccionado el método KNN Imputer ya que los resultados son más precisos.\n"
   ]
  },
  {
   "cell_type": "code",
   "execution_count": 61,
   "metadata": {},
   "outputs": [],
   "source": [
    "#al final me quedo con las del método kn por escoger alguna\n",
    "df_rawdata_copy.drop(['Dailyrate', 'Dailyrate_ITE', 'Distancefromhome', 'Distancefromhome_ITE', 'Monthlyincome', 'Monthlyincome_ITE', 'Performancerating', 'Performancerating_ITE', 'Totalworkingyears', 'Totalworkingyears_ITE', 'Worklifebalance', 'Worklifebalance_ITE', 'Hourlyrate', 'Hourlyrate_ITE'], axis = 1, inplace = True)\n",
    "\n",
    "# ahora vamos a cambiar el nombre de las columnas que quedaron para que tengan el mismo nombre de origen\n",
    "nuevo_nombre = {\"Dailyrate_KNN\": \"Dailyrate\",  'Distancefromhome_KNN': \"Distancefromhome\", \"Monthlyincome_KNN\": \"Monthlyincome\", \"Performancerating_KNN\": \"Performancerating\",\"Totalworkingyears_KNN\": \"Totalworkingyears\", \"Worklifebalance_KNN\": \"Worklifebalance\", \"Hourlyrate_KNN\":\"Hourlyrate\"}\n",
    "df_rawdata_copy.rename(columns = nuevo_nombre, inplace = True)\n"
   ]
  },
  {
   "cell_type": "code",
   "execution_count": 62,
   "metadata": {},
   "outputs": [
    {
     "data": {
      "text/plain": [
       "Index(['Age', 'Attrition', 'Businesstravel', 'Department', 'Education',\n",
       "       'Educationfield', 'Employeenumber', 'Environmentsatisfaction', 'Gender',\n",
       "       'Jobinvolvement', 'Joblevel', 'Jobrole', 'Jobsatisfaction',\n",
       "       'Maritalstatus', 'Monthlyrate', 'Numcompaniesworked', 'Overtime',\n",
       "       'Percentsalaryhike', 'Relationshipsatisfaction', 'Stockoptionlevel',\n",
       "       'Trainingtimeslastyear', 'Yearsatcompany', 'Yearssincelastpromotion',\n",
       "       'Yearswithcurrmanager', 'Datebirth', 'Remotework', 'Dailyrate',\n",
       "       'Distancefromhome', 'Monthlyincome', 'Performancerating',\n",
       "       'Totalworkingyears', 'Worklifebalance', 'Hourlyrate'],\n",
       "      dtype='object')"
      ]
     },
     "execution_count": 62,
     "metadata": {},
     "output_type": "execute_result"
    }
   ],
   "source": [
    "df_rawdata_copy.columns"
   ]
  },
  {
   "cell_type": "code",
   "execution_count": 64,
   "metadata": {},
   "outputs": [],
   "source": [
    "df_rawdata_copy.to_csv(\"../Data/raw_data_final_20231205.csv\")"
   ]
  },
  {
   "cell_type": "markdown",
   "metadata": {},
   "source": [
    "# Sesión 12 diciembre"
   ]
  },
  {
   "cell_type": "code",
   "execution_count": 5,
   "metadata": {},
   "outputs": [],
   "source": [
    "df_rawdata_copy= pd.read_csv(\"../Data/raw_data_final_20231205.csv\", index_col=0)"
   ]
  },
  {
   "cell_type": "markdown",
   "metadata": {},
   "source": [
    "Hemos cambiado los datos numericos de la variable Jobinvolvement por etiquetas"
   ]
  },
  {
   "cell_type": "code",
   "execution_count": 6,
   "metadata": {},
   "outputs": [],
   "source": [
    "dict_map = {1.0: \"Low\", 2.0: \"Moderate\", 3.0: \"High\", 4.0: \"Very High\"}\n",
    "df_rawdata_copy[\"Jobinvolvement\"] = df_rawdata_copy[\"Jobinvolvement\"].replace(dict_map)\n"
   ]
  },
  {
   "cell_type": "code",
   "execution_count": 7,
   "metadata": {},
   "outputs": [
    {
     "data": {
      "text/plain": [
       "Jobinvolvement\n",
       "High         891\n",
       "Moderate     383\n",
       "Very High    152\n",
       "Low           84\n",
       "Name: count, dtype: int64"
      ]
     },
     "execution_count": 7,
     "metadata": {},
     "output_type": "execute_result"
    }
   ],
   "source": [
    "df_rawdata_copy[\"Jobinvolvement\"].value_counts()"
   ]
  },
  {
   "cell_type": "markdown",
   "metadata": {},
   "source": [
    "### Pasamos a la columna Jobrole"
   ]
  },
  {
   "cell_type": "code",
   "execution_count": 8,
   "metadata": {},
   "outputs": [
    {
     "data": {
      "text/plain": [
       "0     Research Director \n",
       "1               Manager \n",
       "2               Manager \n",
       "3     Research Director \n",
       "4       Sales Executive \n",
       "Name: Jobrole, dtype: object"
      ]
     },
     "execution_count": 8,
     "metadata": {},
     "output_type": "execute_result"
    }
   ],
   "source": [
    "# primero vemos cómo está la columna Jobrole\n",
    "df_rawdata_copy[\"Jobrole\"].head()"
   ]
  },
  {
   "cell_type": "code",
   "execution_count": 9,
   "metadata": {},
   "outputs": [
    {
     "data": {
      "text/plain": [
       "0    Research Director\n",
       "1              Manager\n",
       "2              Manager\n",
       "3    Research Director\n",
       "4      Sales Executive\n",
       "Name: Jobrole, dtype: object"
      ]
     },
     "execution_count": 9,
     "metadata": {},
     "output_type": "execute_result"
    }
   ],
   "source": [
    "# capitalize valores de Jobrole (primera letra de cada palabra)\n",
    "df_rawdata_copy['Jobrole'] = df_rawdata_copy['Jobrole'].apply(lambda x: ' '.join(word.capitalize() for word in x.lower().split()))\n",
    "df_rawdata_copy[\"Jobrole\"].head()"
   ]
  },
  {
   "cell_type": "markdown",
   "metadata": {},
   "source": [
    "Aplicamos los cambios en Department mediante una función:"
   ]
  },
  {
   "cell_type": "code",
   "execution_count": 10,
   "metadata": {},
   "outputs": [
    {
     "data": {
      "text/html": [
       "<div>\n",
       "<style scoped>\n",
       "    .dataframe tbody tr th:only-of-type {\n",
       "        vertical-align: middle;\n",
       "    }\n",
       "\n",
       "    .dataframe tbody tr th {\n",
       "        vertical-align: top;\n",
       "    }\n",
       "\n",
       "    .dataframe thead th {\n",
       "        text-align: right;\n",
       "    }\n",
       "</style>\n",
       "<table border=\"1\" class=\"dataframe\">\n",
       "  <thead>\n",
       "    <tr style=\"text-align: right;\">\n",
       "      <th></th>\n",
       "      <th>Jobrole</th>\n",
       "      <th>Department</th>\n",
       "    </tr>\n",
       "  </thead>\n",
       "  <tbody>\n",
       "    <tr>\n",
       "      <th>0</th>\n",
       "      <td>Research Director</td>\n",
       "      <td>Research &amp; Development</td>\n",
       "    </tr>\n",
       "    <tr>\n",
       "      <th>1</th>\n",
       "      <td>Manager</td>\n",
       "      <td>Unknown</td>\n",
       "    </tr>\n",
       "    <tr>\n",
       "      <th>2</th>\n",
       "      <td>Manager</td>\n",
       "      <td>Research &amp; Development</td>\n",
       "    </tr>\n",
       "    <tr>\n",
       "      <th>3</th>\n",
       "      <td>Research Director</td>\n",
       "      <td>Research &amp; Development</td>\n",
       "    </tr>\n",
       "    <tr>\n",
       "      <th>4</th>\n",
       "      <td>Sales Executive</td>\n",
       "      <td>Sales</td>\n",
       "    </tr>\n",
       "  </tbody>\n",
       "</table>\n",
       "</div>"
      ],
      "text/plain": [
       "             Jobrole                Department\n",
       "0  Research Director    Research & Development\n",
       "1            Manager                   Unknown\n",
       "2            Manager   Research & Development \n",
       "3  Research Director    Research & Development\n",
       "4    Sales Executive                     Sales"
      ]
     },
     "execution_count": 10,
     "metadata": {},
     "output_type": "execute_result"
    }
   ],
   "source": [
    "def fill_department(df, jobrole, department):\n",
    "    df.loc[df['Jobrole'] == jobrole, 'Department'] = df.loc[df['Jobrole'] == jobrole, 'Department'].fillna(department)\n",
    "    return df\n",
    "\n",
    "# Uso de la función fill_department para reemplazar los valores faltantes en 'Department'\n",
    "df_rawdata_copy=fill_department(df_rawdata_copy, 'Research Director', 'Research & Development')\n",
    "df_rawdata_copy=fill_department(df_rawdata_copy, 'Healthcare Representative', 'Research & Development')\n",
    "df_rawdata_copy=fill_department(df_rawdata_copy, 'Laboratory Technician', 'Research & Development')\n",
    "df_rawdata_copy=fill_department(df_rawdata_copy, 'Manufacturing Director', 'Research & Development')\n",
    "df_rawdata_copy=fill_department(df_rawdata_copy, 'Research Scientist', 'Research & Development')\n",
    "df_rawdata_copy=fill_department(df_rawdata_copy, 'Sales Executive', 'Sales')\n",
    "df_rawdata_copy=fill_department(df_rawdata_copy, 'Sales Representative', 'Sales')\n",
    "df_rawdata_copy=fill_department(df_rawdata_copy, 'Human Resources', 'Human Resources')\n",
    "df_rawdata_copy=fill_department(df_rawdata_copy, 'Manager', 'Unknown')\n",
    "\n",
    "# Mostrar el DataFrame actualizado\n",
    "df_rawdata_copy[[\"Jobrole\", \"Department\"]].head(5)"
   ]
  },
  {
   "cell_type": "code",
   "execution_count": null,
   "metadata": {},
   "outputs": [],
   "source": [
    "df_rawdata_copy"
   ]
  },
  {
   "cell_type": "code",
   "execution_count": 12,
   "metadata": {},
   "outputs": [],
   "source": [
    "df_rawdata_copy.to_csv(\"../Data/raw_data_final_20231212.csv\")"
   ]
  }
 ],
 "metadata": {
  "kernelspec": {
   "display_name": "pruebalberto",
   "language": "python",
   "name": "python3"
  },
  "language_info": {
   "codemirror_mode": {
    "name": "ipython",
    "version": 3
   },
   "file_extension": ".py",
   "mimetype": "text/x-python",
   "name": "python",
   "nbconvert_exporter": "python",
   "pygments_lexer": "ipython3",
   "version": "3.11.5"
  }
 },
 "nbformat": 4,
 "nbformat_minor": 2
}
